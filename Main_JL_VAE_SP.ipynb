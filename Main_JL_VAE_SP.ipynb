{
 "cells": [
  {
   "cell_type": "markdown",
   "metadata": {},
   "source": [
    "## Libraries"
   ]
  },
  {
   "cell_type": "code",
   "execution_count": 1,
   "metadata": {},
   "outputs": [
    {
     "name": "stdout",
     "output_type": "stream",
     "text": [
      "Cuda available: True\n",
      "Cuda_id:  0\n",
      "NVIDIA GeForce RTX 4060 Laptop GPU\n"
     ]
    }
   ],
   "source": [
    "import argparse\n",
    "import math\n",
    "import os\n",
    "import numpy as np\n",
    "import torch as T\n",
    "import torch.nn.functional as F\n",
    "from tqdm import tqdm\n",
    "from utility.VAE_Text_Generation.helper_functions import get_cuda\n",
    "from utility.VAE_Text_Generation.model import VAE\n",
    "\n",
    "import torch\n",
    "print('Cuda available:', torch.cuda.is_available())\n",
    "try: \n",
    "    cuda_id = torch.cuda.current_device()\n",
    "    print('Cuda_id: ', cuda_id)\n",
    "    print(torch.cuda.get_device_name(cuda_id))\n",
    "except:\n",
    "    print('No Cuda :(')"
   ]
  },
  {
   "cell_type": "markdown",
   "metadata": {},
   "source": [
    "## Opt ARGS Class"
   ]
  },
  {
   "cell_type": "code",
   "execution_count": 2,
   "metadata": {},
   "outputs": [],
   "source": [
    "class Args:\n",
    "    def __init__(self, **kwargs):\n",
    "        self.__dict__.update(kwargs)\n",
    "\n",
    "# Define the dictionary with default values\n",
    "args_dict = {\n",
    "    'batch_size': 8,\n",
    "    'n_vocab': 12000,\n",
    "    'epochs': 1000,\n",
    "    'n_hidden_G': 512,\n",
    "    'n_layers_G': 2,\n",
    "    'n_hidden_E': 512,\n",
    "    'n_layers_E': 1,\n",
    "    'n_z': 100,\n",
    "    'word_dropout': 0.5,\n",
    "    'rec_coef': 7,\n",
    "    'lr': 0.00001,\n",
    "    'gpu': 0,\n",
    "    'n_highway_layers': 2,\n",
    "    'n_embed': 300,\n",
    "    'out_num': 30000,\n",
    "    'unk_token': \"<unk>\",\n",
    "    'pad_token': \"<pad>\",\n",
    "    'start_token': \"<sos>\",\n",
    "    'end_token': \"<eos>\",\n",
    "    'dataset': \"gab\",\n",
    "    'training': True,\n",
    "    'resume_training': False\n",
    "}\n",
    "\n",
    "opt = Args(**args_dict)"
   ]
  },
  {
   "cell_type": "code",
   "execution_count": 3,
   "metadata": {},
   "outputs": [
    {
     "name": "stdout",
     "output_type": "stream",
     "text": [
      "opt.dataset conansp\n",
      "opt.training True\n",
      "opt.resume_training False\n",
      "opt.n_embed 300\n",
      "opt.epochs 1000\n"
     ]
    }
   ],
   "source": [
    "# Training Parameters\n",
    "opt.dataset = 'conansp' \n",
    "print('opt.dataset', opt.dataset)\n",
    "opt.training = True \n",
    "print('opt.training', opt.training)\n",
    "opt.resume_training = False\n",
    "print('opt.resume_training', opt.resume_training)\n",
    "opt.n_embed = 300\n",
    "print('opt.n_embed', opt.n_embed)\n",
    "opt.epochs = 1000\n",
    "print('opt.epochs', opt.epochs)\n"
   ]
  },
  {
   "cell_type": "code",
   "execution_count": 4,
   "metadata": {},
   "outputs": [
    {
     "name": "stdout",
     "output_type": "stream",
     "text": [
      "tmp/saved_VAE_models/conansp.tar\n"
     ]
    }
   ],
   "source": [
    "save_path = \"tmp/saved_VAE_models/\" + opt.dataset + \".tar\"\n",
    "print(save_path)\n",
    "\n",
    "if not os.path.exists(\"tmp/saved_VAE_models\"):\n",
    "    os.makedirs(\"tmp/saved_VAE_models\")\n",
    "\n",
    "os.environ[\"CUDA_VISIBLE_DEVICES\"] = str(opt.gpu)\n",
    "\n",
    "candidates_path = opt.dataset + '_for_VAE.txt'"
   ]
  },
  {
   "cell_type": "markdown",
   "metadata": {},
   "source": [
    "## VAE Iterators and GLOVE Download"
   ]
  },
  {
   "cell_type": "markdown",
   "metadata": {},
   "source": [
    "Usar Coneccion a internet"
   ]
  },
  {
   "cell_type": "code",
   "execution_count": 5,
   "metadata": {},
   "outputs": [
    {
     "name": "stderr",
     "output_type": "stream",
     "text": [
      "/home/jaimelicea/miniconda3/envs/gps/lib/python3.9/site-packages/torchtext/vocab.py:432: FutureWarning: You are using `torch.load` with `weights_only=False` (the current default value), which uses the default pickle module implicitly. It is possible to construct malicious pickle data which will execute arbitrary code during unpickling (See https://github.com/pytorch/pytorch/blob/main/SECURITY.md#untrusted-models for more details). In a future release, the default value for `weights_only` will be flipped to `True`. This limits the functions that could be executed during unpickling. Arbitrary objects will no longer be allowed to be loaded via this mode unless they are explicitly allowlisted by the user via `torch.serialization.add_safe_globals`. We recommend you start setting `weights_only=True` for any use case where you don't have full control of the loaded file. Please open an issue on GitHub for any issues related to this experimental feature.\n",
      "  self.itos, self.stoi, self.vectors, self.dim = torch.load(path_pt)\n"
     ]
    }
   ],
   "source": [
    "from utility.VAE_Text_Generation.dataset_SP import get_iterators\n",
    "train_iter, val_iter, vocab = get_iterators(opt, path='./data/', fname=candidates_path)\n",
    "opt.n_vocab = len(vocab)"
   ]
  },
  {
   "cell_type": "code",
   "execution_count": 6,
   "metadata": {},
   "outputs": [
    {
     "name": "stdout",
     "output_type": "stream",
     "text": [
      "[('<unk>', 0), ('<pad>', 1), ('<sos>', 2), ('<eos>', 3), ('de', 4), ('que', 5), ('la', 6), ('no', 7), ('los', 8), ('y', 9), ('a', 10), ('es', 11), ('el', 12), ('en', 13), ('las', 14), ('una', 15), ('un', 16), ('por', 17), ('son', 18), ('se', 19)]\n",
      "(10694, 300)\n"
     ]
    }
   ],
   "source": [
    "print(list(vocab.stoi.items())[:20])\n",
    "print(vocab.vectors.numpy().shape)"
   ]
  },
  {
   "cell_type": "code",
   "execution_count": 7,
   "metadata": {},
   "outputs": [],
   "source": [
    "if opt.training:\n",
    "    vae = VAE(opt)\n",
    "    vae.embedding.weight.data.copy_(vocab.vectors)\n",
    "    vae = get_cuda(vae)\n",
    "    trainer_vae = T.optim.Adam(vae.parameters(), lr=opt.lr)\n",
    "else:\n",
    "    checkpoint = T.load(save_path)\n",
    "    vae = checkpoint['vae_dict']\n",
    "    trainer_vae = checkpoint['vae_trainer']\n",
    "    if 'opt' in checkpoint:\n",
    "        opt_old = checkpoint['opt']\n",
    "        print(opt_old)"
   ]
  },
  {
   "cell_type": "markdown",
   "metadata": {},
   "source": [
    "## Training and Generation"
   ]
  },
  {
   "cell_type": "code",
   "execution_count": 8,
   "metadata": {},
   "outputs": [],
   "source": [
    "def create_generator_input(x, train):\n",
    "    G_inp = x[:, 0:x.size(1)-1].clone()\t                    #input for generator should exclude last word of sequence\n",
    "    if train == False:\n",
    "        return G_inp\n",
    "    r = np.random.rand(G_inp.size(0), G_inp.size(1))        #Perform word_dropout according to random values (r) generated for each word\n",
    "    for i in range(len(G_inp)):\n",
    "        for j in range(1, G_inp.size(1)):\n",
    "            if r[i, j] < opt.word_dropout and G_inp[i, j] not in [vocab.stoi[opt.pad_token], vocab.stoi[opt.end_token]]:\n",
    "                G_inp[i, j] = vocab.stoi[opt.unk_token]\n",
    "    return G_inp\n",
    "\n",
    "\n",
    "\n",
    "def train_batch(x, G_inp, step, train=True):\n",
    "    logit, _, kld = vae(x, G_inp, None, None)\n",
    "    logit = logit.view(-1, opt.n_vocab)\t                    #converting into shape (batch_size*(n_seq-1), n_vocab) to facilitate performing F.cross_entropy()\n",
    "    x = x[:, 1:x.size(1)]\t                                #target for generator should exclude first word of sequence\n",
    "    x = x.contiguous().view(-1)\t                            #converting into shape (batch_size*(n_seq-1),1) to facilitate performing F.cross_entropy()\n",
    "    rec_loss = F.cross_entropy(logit, x)\n",
    "    kld_coef = (math.tanh((step - 15000)/1000) + 1) / 2\n",
    "    # kld_coef = min(1,step/(200000.0))\n",
    "    loss = opt.rec_coef*rec_loss + kld_coef*kld\n",
    "    if train==True:\t                                    #skip below step if we are performing validation\n",
    "        trainer_vae.zero_grad()\n",
    "        loss.backward()\n",
    "        trainer_vae.step()\n",
    "    return rec_loss.item(), kld.item()\n",
    "\n",
    "def training():\n",
    "    start_epoch = step = 0\n",
    "    if opt.resume_training:\n",
    "        step, start_epoch = checkpoint['step'], checkpoint['epoch']\n",
    "    for epoch in range(start_epoch, opt.epochs):\n",
    "        vae.train()\n",
    "        train_rec_loss = []\n",
    "        train_kl_loss = []\n",
    "        for batch in train_iter:\n",
    "            x = get_cuda(batch.text) \t                                #Used as encoder input as well as target output for generator\n",
    "            G_inp = create_generator_input(x, train=True)\n",
    "            rec_loss, kl_loss = train_batch(x, G_inp, step, train=True)\n",
    "            train_rec_loss.append(rec_loss)\n",
    "            train_kl_loss.append(kl_loss)\n",
    "            step += 1\n",
    "\n",
    "        vae.eval()\n",
    "        valid_rec_loss = []\n",
    "        valid_kl_loss = []\n",
    "        for batch in val_iter:\n",
    "            x = get_cuda(batch.text)\n",
    "            G_inp = create_generator_input(x, train=False)\n",
    "            with T.autograd.no_grad():\n",
    "                rec_loss, kl_loss = train_batch(x, G_inp, step, train=False)\n",
    "            valid_rec_loss.append(rec_loss)\n",
    "            valid_kl_loss.append(kl_loss)\n",
    "\n",
    "        train_rec_loss = np.mean(train_rec_loss)\n",
    "        train_kl_loss = np.mean(train_kl_loss)\n",
    "        valid_rec_loss = np.mean(valid_rec_loss)\n",
    "        valid_kl_loss = np.mean(valid_kl_loss)\n",
    "\n",
    "        print(\"No.\", epoch, \"T_rec:\", '%.2f' % train_rec_loss, \"T_kld:\", '%.2f' % train_kl_loss, \"V_rec:\", '%.2f' % valid_rec_loss, \"V_kld:\", '%.2f' % valid_kl_loss)\n",
    "        if epoch >= 50 and epoch % 10 == 0:\n",
    "            print('save model ' + str(epoch) + '...')\n",
    "            T.save({'epoch': epoch + 1, 'vae_dict': vae, 'vae_trainer': trainer_vae, 'step': step, 'opt': opt}, save_path)\n",
    "            generate_sentences(5)\n",
    " \n",
    "def generate_sentences(n_examples, save=0):\n",
    "    vae.eval()\n",
    "    out = []\n",
    "    for i in tqdm(range(n_examples)):\n",
    "        z = get_cuda(T.randn([1, vae.n_z]))\n",
    "        h_0 = get_cuda(T.zeros(vae.generator.n_layers_G, 1, vae.generator.n_hidden_G))\n",
    "        c_0 = get_cuda(T.zeros(vae.generator.n_layers_G, 1, vae.generator.n_hidden_G))\n",
    "        G_hidden = (h_0, c_0)\n",
    "        G_inp = T.LongTensor(1, 1).fill_(vocab.stoi[opt.start_token])\n",
    "        G_inp = get_cuda(G_inp)\n",
    "        out_str = \"\"\n",
    "        while (G_inp[0][0].item() != vocab.stoi[opt.end_token]) and (G_inp[0][0].item() != vocab.stoi[opt.pad_token]):\n",
    "            with T.autograd.no_grad():\n",
    "                logit, G_hidden, _ = vae(None, G_inp, z, G_hidden)\n",
    "            probs = F.softmax(logit[0], dim=1)\n",
    "            G_inp = T.multinomial(probs, 1)\n",
    "            out_str += (vocab.itos[G_inp[0][0].item()]+\" \")\n",
    "        # print(out_str[:-6])\n",
    "        out.append(out_str[:-6])\n",
    "    if save:\n",
    "        original = []\n",
    "        with open('./data/' + candidates_path, 'r') as fin:\n",
    "            for line in fin:\n",
    "                original.append(line.strip())\n",
    "        fname = './data/' + opt.dataset + '_candidates.txt'\n",
    "        with open(fname, 'w') as fout:\n",
    "            for i in out + original:\n",
    "                fout.write(i)\n",
    "                fout.write('\\n')"
   ]
  },
  {
   "cell_type": "markdown",
   "metadata": {},
   "source": [
    "Esto guarda un txt de candidatos de opt.dataset en: './data/opt.dataset_candidates.txt'\n"
   ]
  },
  {
   "cell_type": "code",
   "execution_count": null,
   "metadata": {},
   "outputs": [
    {
     "name": "stdout",
     "output_type": "stream",
     "text": [
      "No. 0 T_rec: 7.20 T_kld: 294.04 V_rec: 7.73 V_kld: 597.01\n",
      "No. 1 T_rec: 4.68 T_kld: 942.82 V_rec: 6.89 V_kld: 1013.16\n",
      "No. 2 T_rec: 4.47 T_kld: 1203.00 V_rec: 6.81 V_kld: 1179.70\n",
      "No. 3 T_rec: 4.42 T_kld: 1330.41 V_rec: 6.72 V_kld: 1266.23\n",
      "No. 4 T_rec: 4.29 T_kld: 1217.73 V_rec: 6.65 V_kld: 811.88\n",
      "No. 5 T_rec: 4.08 T_kld: 971.60 V_rec: 6.66 V_kld: 827.37\n",
      "No. 6 T_rec: 4.07 T_kld: 1018.72 V_rec: 6.62 V_kld: 907.50\n",
      "No. 7 T_rec: 4.02 T_kld: 1045.78 V_rec: 6.64 V_kld: 921.13\n",
      "No. 8 T_rec: 4.01 T_kld: 1070.71 V_rec: 6.62 V_kld: 950.76\n",
      "No. 9 T_rec: 3.95 T_kld: 1095.63 V_rec: 6.60 V_kld: 983.89\n",
      "No. 10 T_rec: 3.99 T_kld: 1107.47 V_rec: 6.61 V_kld: 994.33\n",
      "No. 11 T_rec: 3.93 T_kld: 1109.64 V_rec: 6.66 V_kld: 979.75\n",
      "No. 12 T_rec: 3.95 T_kld: 1130.15 V_rec: 6.59 V_kld: 1019.33\n",
      "No. 13 T_rec: 3.90 T_kld: 1132.29 V_rec: 6.60 V_kld: 1031.79\n",
      "No. 14 T_rec: 3.91 T_kld: 1138.37 V_rec: 6.55 V_kld: 1052.47\n",
      "No. 15 T_rec: 3.92 T_kld: 1134.55 V_rec: 6.72 V_kld: 1012.96\n",
      "No. 16 T_rec: 3.92 T_kld: 1145.89 V_rec: 6.68 V_kld: 1033.11\n",
      "No. 17 T_rec: 3.88 T_kld: 1150.84 V_rec: 6.63 V_kld: 1032.40\n",
      "No. 18 T_rec: 3.88 T_kld: 1144.58 V_rec: 6.69 V_kld: 1027.18\n",
      "No. 19 T_rec: 3.86 T_kld: 1155.86 V_rec: 6.74 V_kld: 1024.16\n",
      "No. 20 T_rec: 3.88 T_kld: 1153.26 V_rec: 6.70 V_kld: 1027.69\n",
      "No. 21 T_rec: 3.85 T_kld: 1116.81 V_rec: 6.71 V_kld: 996.60\n",
      "No. 22 T_rec: 3.86 T_kld: 1109.28 V_rec: 6.57 V_kld: 1007.70\n",
      "No. 23 T_rec: 3.87 T_kld: 1047.44 V_rec: 6.64 V_kld: 894.00\n",
      "No. 24 T_rec: 3.83 T_kld: 875.94 V_rec: 6.83 V_kld: 654.62\n",
      "No. 25 T_rec: 3.85 T_kld: 587.72 V_rec: 7.01 V_kld: 366.53\n",
      "No. 26 T_rec: 3.86 T_kld: 300.32 V_rec: 6.59 V_kld: 176.55\n",
      "No. 27 T_rec: 3.93 T_kld: 126.92 V_rec: 6.30 V_kld: 81.96\n",
      "No. 28 T_rec: 4.00 T_kld: 52.03 V_rec: 6.35 V_kld: 35.92\n",
      "No. 29 T_rec: 4.04 T_kld: 21.09 V_rec: 6.40 V_kld: 15.51\n",
      "No. 30 T_rec: 4.11 T_kld: 7.22 V_rec: 6.47 V_kld: 5.01\n",
      "No. 31 T_rec: 4.10 T_kld: 2.51 V_rec: 6.47 V_kld: 2.61\n",
      "No. 32 T_rec: 4.11 T_kld: 1.20 V_rec: 6.49 V_kld: 1.06\n",
      "No. 33 T_rec: 4.13 T_kld: 0.67 V_rec: 6.49 V_kld: 0.64\n",
      "No. 34 T_rec: 4.08 T_kld: 0.40 V_rec: 6.48 V_kld: 0.36\n",
      "No. 35 T_rec: 4.12 T_kld: 0.20 V_rec: 6.47 V_kld: 0.20\n",
      "No. 36 T_rec: 4.05 T_kld: 0.15 V_rec: 6.45 V_kld: 0.11\n",
      "No. 37 T_rec: 3.97 T_kld: 0.08 V_rec: 6.42 V_kld: 0.08\n",
      "No. 38 T_rec: 4.01 T_kld: 0.07 V_rec: 6.39 V_kld: 0.07\n",
      "No. 39 T_rec: 3.96 T_kld: 0.04 V_rec: 6.38 V_kld: 0.03\n",
      "No. 40 T_rec: 3.96 T_kld: 0.02 V_rec: 6.36 V_kld: 0.02\n",
      "No. 41 T_rec: 3.93 T_kld: 0.01 V_rec: 6.34 V_kld: 0.02\n",
      "No. 42 T_rec: 3.93 T_kld: 0.01 V_rec: 6.33 V_kld: 0.01\n",
      "No. 43 T_rec: 3.93 T_kld: 0.01 V_rec: 6.31 V_kld: 0.01\n",
      "No. 44 T_rec: 3.91 T_kld: 0.00 V_rec: 6.29 V_kld: 0.00\n",
      "No. 45 T_rec: 3.91 T_kld: 0.00 V_rec: 6.28 V_kld: 0.00\n",
      "No. 46 T_rec: 3.91 T_kld: 0.00 V_rec: 6.26 V_kld: 0.00\n",
      "No. 47 T_rec: 3.86 T_kld: 0.00 V_rec: 6.25 V_kld: 0.00\n",
      "No. 48 T_rec: 3.87 T_kld: 0.00 V_rec: 6.23 V_kld: 0.00\n",
      "No. 49 T_rec: 3.88 T_kld: 0.00 V_rec: 6.22 V_kld: 0.00\n",
      "No. 50 T_rec: 3.88 T_kld: 0.00 V_rec: 6.21 V_kld: 0.00\n",
      "save model 50...\n"
     ]
    },
    {
     "name": "stderr",
     "output_type": "stream",
     "text": [
      "100%|██████████| 5/5 [00:00<00:00, 44.16it/s]\n"
     ]
    },
    {
     "name": "stdout",
     "output_type": "stream",
     "text": [
      "No. 51 T_rec: 3.85 T_kld: 0.00 V_rec: 6.19 V_kld: 0.00\n",
      "No. 52 T_rec: 3.85 T_kld: 0.00 V_rec: 6.18 V_kld: 0.00\n",
      "No. 53 T_rec: 3.87 T_kld: 0.00 V_rec: 6.16 V_kld: 0.00\n",
      "No. 54 T_rec: 3.83 T_kld: 0.00 V_rec: 6.15 V_kld: 0.00\n",
      "No. 55 T_rec: 3.86 T_kld: 0.00 V_rec: 6.13 V_kld: 0.00\n",
      "No. 56 T_rec: 3.83 T_kld: 0.00 V_rec: 6.11 V_kld: 0.00\n",
      "No. 57 T_rec: 3.84 T_kld: 0.00 V_rec: 6.10 V_kld: 0.00\n",
      "No. 58 T_rec: 3.80 T_kld: 0.00 V_rec: 6.08 V_kld: 0.00\n",
      "No. 59 T_rec: 3.82 T_kld: 0.00 V_rec: 6.06 V_kld: 0.00\n",
      "No. 60 T_rec: 3.84 T_kld: 0.00 V_rec: 6.04 V_kld: 0.00\n",
      "save model 60...\n"
     ]
    },
    {
     "name": "stderr",
     "output_type": "stream",
     "text": [
      "100%|██████████| 5/5 [00:00<00:00, 65.80it/s]\n"
     ]
    },
    {
     "name": "stdout",
     "output_type": "stream",
     "text": [
      "No. 61 T_rec: 3.81 T_kld: 0.00 V_rec: 6.03 V_kld: 0.00\n",
      "No. 62 T_rec: 3.78 T_kld: 0.00 V_rec: 6.01 V_kld: 0.00\n",
      "No. 63 T_rec: 3.79 T_kld: 0.00 V_rec: 5.99 V_kld: 0.00\n",
      "No. 64 T_rec: 3.78 T_kld: 0.00 V_rec: 5.97 V_kld: 0.00\n",
      "No. 65 T_rec: 3.80 T_kld: 0.00 V_rec: 5.95 V_kld: 0.00\n",
      "No. 66 T_rec: 3.79 T_kld: 0.00 V_rec: 5.94 V_kld: 0.00\n",
      "No. 67 T_rec: 3.74 T_kld: 0.00 V_rec: 5.92 V_kld: 0.00\n",
      "No. 68 T_rec: 3.77 T_kld: 0.00 V_rec: 5.91 V_kld: 0.00\n",
      "No. 69 T_rec: 3.72 T_kld: 0.00 V_rec: 5.89 V_kld: 0.00\n",
      "No. 70 T_rec: 3.75 T_kld: 0.00 V_rec: 5.88 V_kld: 0.00\n",
      "save model 70...\n"
     ]
    },
    {
     "name": "stderr",
     "output_type": "stream",
     "text": [
      "100%|██████████| 5/5 [00:00<00:00, 51.19it/s]\n"
     ]
    },
    {
     "name": "stdout",
     "output_type": "stream",
     "text": [
      "No. 71 T_rec: 3.73 T_kld: 0.00 V_rec: 5.87 V_kld: 0.00\n",
      "No. 72 T_rec: 3.71 T_kld: 0.00 V_rec: 5.85 V_kld: 0.00\n",
      "No. 73 T_rec: 3.73 T_kld: 0.00 V_rec: 5.84 V_kld: 0.00\n",
      "No. 74 T_rec: 3.72 T_kld: 0.00 V_rec: 5.83 V_kld: 0.00\n",
      "No. 75 T_rec: 3.74 T_kld: 0.00 V_rec: 5.81 V_kld: 0.00\n",
      "No. 76 T_rec: 3.73 T_kld: 0.00 V_rec: 5.80 V_kld: 0.00\n",
      "No. 77 T_rec: 3.70 T_kld: 0.00 V_rec: 5.79 V_kld: 0.00\n",
      "No. 78 T_rec: 3.66 T_kld: 0.00 V_rec: 5.78 V_kld: 0.00\n",
      "No. 79 T_rec: 3.72 T_kld: 0.00 V_rec: 5.77 V_kld: 0.00\n",
      "No. 80 T_rec: 3.70 T_kld: 0.00 V_rec: 5.75 V_kld: 0.00\n",
      "save model 80...\n"
     ]
    },
    {
     "name": "stderr",
     "output_type": "stream",
     "text": [
      "100%|██████████| 5/5 [00:00<00:00, 87.07it/s]\n"
     ]
    },
    {
     "name": "stdout",
     "output_type": "stream",
     "text": [
      "No. 81 T_rec: 3.71 T_kld: 0.00 V_rec: 5.74 V_kld: 0.00\n",
      "No. 82 T_rec: 3.68 T_kld: 0.00 V_rec: 5.72 V_kld: 0.00\n",
      "No. 83 T_rec: 3.69 T_kld: 0.00 V_rec: 5.71 V_kld: 0.00\n",
      "No. 84 T_rec: 3.68 T_kld: 0.00 V_rec: 5.70 V_kld: 0.00\n",
      "No. 85 T_rec: 3.69 T_kld: 0.00 V_rec: 5.69 V_kld: 0.00\n",
      "No. 86 T_rec: 3.67 T_kld: 0.00 V_rec: 5.68 V_kld: 0.00\n",
      "No. 87 T_rec: 3.65 T_kld: 0.00 V_rec: 5.67 V_kld: 0.00\n",
      "No. 88 T_rec: 3.70 T_kld: 0.00 V_rec: 5.66 V_kld: 0.00\n",
      "No. 89 T_rec: 3.67 T_kld: 0.00 V_rec: 5.65 V_kld: 0.00\n",
      "No. 90 T_rec: 3.63 T_kld: 0.00 V_rec: 5.64 V_kld: 0.00\n",
      "save model 90...\n"
     ]
    },
    {
     "name": "stderr",
     "output_type": "stream",
     "text": [
      "100%|██████████| 5/5 [00:00<00:00, 69.19it/s]\n"
     ]
    },
    {
     "name": "stdout",
     "output_type": "stream",
     "text": [
      "No. 91 T_rec: 3.63 T_kld: 0.00 V_rec: 5.63 V_kld: 0.00\n",
      "No. 92 T_rec: 3.65 T_kld: 0.00 V_rec: 5.62 V_kld: 0.00\n",
      "No. 93 T_rec: 3.64 T_kld: 0.00 V_rec: 5.61 V_kld: 0.00\n",
      "No. 94 T_rec: 3.63 T_kld: 0.00 V_rec: 5.60 V_kld: 0.00\n",
      "No. 95 T_rec: 3.63 T_kld: 0.00 V_rec: 5.59 V_kld: 0.00\n",
      "No. 96 T_rec: 3.64 T_kld: 0.00 V_rec: 5.58 V_kld: 0.00\n",
      "No. 97 T_rec: 3.59 T_kld: 0.00 V_rec: 5.57 V_kld: 0.00\n",
      "No. 98 T_rec: 3.63 T_kld: 0.00 V_rec: 5.56 V_kld: 0.00\n",
      "No. 99 T_rec: 3.62 T_kld: 0.00 V_rec: 5.55 V_kld: 0.00\n",
      "No. 100 T_rec: 3.62 T_kld: 0.00 V_rec: 5.54 V_kld: 0.00\n",
      "save model 100...\n"
     ]
    },
    {
     "name": "stderr",
     "output_type": "stream",
     "text": [
      "100%|██████████| 5/5 [00:00<00:00, 51.66it/s]\n"
     ]
    },
    {
     "name": "stdout",
     "output_type": "stream",
     "text": [
      "No. 101 T_rec: 3.60 T_kld: 0.00 V_rec: 5.53 V_kld: 0.00\n",
      "No. 102 T_rec: 3.61 T_kld: 0.00 V_rec: 5.52 V_kld: 0.00\n",
      "No. 103 T_rec: 3.59 T_kld: 0.00 V_rec: 5.51 V_kld: 0.00\n",
      "No. 104 T_rec: 3.58 T_kld: 0.00 V_rec: 5.50 V_kld: 0.00\n",
      "No. 105 T_rec: 3.62 T_kld: 0.00 V_rec: 5.49 V_kld: 0.00\n",
      "No. 106 T_rec: 3.58 T_kld: 0.00 V_rec: 5.48 V_kld: 0.00\n",
      "No. 107 T_rec: 3.57 T_kld: 0.00 V_rec: 5.47 V_kld: 0.00\n",
      "No. 108 T_rec: 3.58 T_kld: 0.00 V_rec: 5.47 V_kld: 0.00\n",
      "No. 109 T_rec: 3.57 T_kld: 0.00 V_rec: 5.46 V_kld: 0.00\n",
      "No. 110 T_rec: 3.58 T_kld: 0.00 V_rec: 5.45 V_kld: 0.00\n",
      "save model 110...\n"
     ]
    },
    {
     "name": "stderr",
     "output_type": "stream",
     "text": [
      "100%|██████████| 5/5 [00:00<00:00, 53.61it/s]\n"
     ]
    },
    {
     "name": "stdout",
     "output_type": "stream",
     "text": [
      "No. 111 T_rec: 3.57 T_kld: 0.00 V_rec: 5.43 V_kld: 0.00\n",
      "No. 112 T_rec: 3.59 T_kld: 0.00 V_rec: 5.43 V_kld: 0.00\n",
      "No. 113 T_rec: 3.55 T_kld: 0.00 V_rec: 5.42 V_kld: 0.00\n",
      "No. 114 T_rec: 3.57 T_kld: 0.00 V_rec: 5.41 V_kld: 0.00\n",
      "No. 115 T_rec: 3.57 T_kld: 0.00 V_rec: 5.40 V_kld: 0.00\n",
      "No. 116 T_rec: 3.56 T_kld: 0.00 V_rec: 5.39 V_kld: 0.00\n",
      "No. 117 T_rec: 3.58 T_kld: 0.00 V_rec: 5.39 V_kld: 0.00\n",
      "No. 118 T_rec: 3.56 T_kld: 0.00 V_rec: 5.38 V_kld: 0.00\n",
      "No. 119 T_rec: 3.54 T_kld: 0.00 V_rec: 5.37 V_kld: 0.00\n",
      "No. 120 T_rec: 3.52 T_kld: 0.00 V_rec: 5.36 V_kld: 0.00\n",
      "save model 120...\n"
     ]
    },
    {
     "name": "stderr",
     "output_type": "stream",
     "text": [
      "100%|██████████| 5/5 [00:00<00:00, 51.84it/s]\n"
     ]
    },
    {
     "name": "stdout",
     "output_type": "stream",
     "text": [
      "No. 121 T_rec: 3.55 T_kld: 0.00 V_rec: 5.35 V_kld: 0.00\n",
      "No. 122 T_rec: 3.52 T_kld: 0.00 V_rec: 5.34 V_kld: 0.00\n",
      "No. 123 T_rec: 3.51 T_kld: 0.00 V_rec: 5.33 V_kld: 0.00\n",
      "No. 124 T_rec: 3.51 T_kld: 0.00 V_rec: 5.33 V_kld: 0.00\n",
      "No. 125 T_rec: 3.51 T_kld: 0.00 V_rec: 5.32 V_kld: 0.00\n",
      "No. 126 T_rec: 3.55 T_kld: 0.00 V_rec: 5.31 V_kld: 0.00\n",
      "No. 127 T_rec: 3.50 T_kld: 0.00 V_rec: 5.30 V_kld: 0.00\n",
      "No. 128 T_rec: 3.50 T_kld: 0.00 V_rec: 5.30 V_kld: 0.00\n",
      "No. 129 T_rec: 3.52 T_kld: 0.00 V_rec: 5.29 V_kld: 0.00\n",
      "No. 130 T_rec: 3.49 T_kld: 0.00 V_rec: 5.28 V_kld: 0.00\n",
      "save model 130...\n"
     ]
    },
    {
     "name": "stderr",
     "output_type": "stream",
     "text": [
      "100%|██████████| 5/5 [00:00<00:00, 48.05it/s]\n"
     ]
    },
    {
     "name": "stdout",
     "output_type": "stream",
     "text": [
      "No. 131 T_rec: 3.50 T_kld: 0.00 V_rec: 5.27 V_kld: 0.00\n",
      "No. 132 T_rec: 3.47 T_kld: 0.00 V_rec: 5.26 V_kld: 0.00\n",
      "No. 133 T_rec: 3.51 T_kld: 0.00 V_rec: 5.26 V_kld: 0.00\n",
      "No. 134 T_rec: 3.50 T_kld: 0.00 V_rec: 5.25 V_kld: 0.00\n",
      "No. 135 T_rec: 3.50 T_kld: 0.00 V_rec: 5.24 V_kld: 0.00\n",
      "No. 136 T_rec: 3.49 T_kld: 0.00 V_rec: 5.23 V_kld: 0.00\n",
      "No. 137 T_rec: 3.52 T_kld: 0.00 V_rec: 5.23 V_kld: 0.00\n",
      "No. 138 T_rec: 3.48 T_kld: 0.00 V_rec: 5.22 V_kld: 0.00\n",
      "No. 139 T_rec: 3.46 T_kld: 0.00 V_rec: 5.21 V_kld: 0.00\n",
      "No. 140 T_rec: 3.46 T_kld: 0.00 V_rec: 5.20 V_kld: 0.00\n",
      "save model 140...\n"
     ]
    },
    {
     "name": "stderr",
     "output_type": "stream",
     "text": [
      "100%|██████████| 5/5 [00:00<00:00, 55.09it/s]\n"
     ]
    },
    {
     "name": "stdout",
     "output_type": "stream",
     "text": [
      "No. 141 T_rec: 3.48 T_kld: 0.00 V_rec: 5.20 V_kld: 0.00\n",
      "No. 142 T_rec: 3.46 T_kld: 0.00 V_rec: 5.19 V_kld: 0.00\n",
      "No. 143 T_rec: 3.48 T_kld: 0.00 V_rec: 5.18 V_kld: 0.00\n",
      "No. 144 T_rec: 3.49 T_kld: 0.00 V_rec: 5.18 V_kld: 0.00\n",
      "No. 145 T_rec: 3.44 T_kld: 0.00 V_rec: 5.17 V_kld: 0.00\n",
      "No. 146 T_rec: 3.47 T_kld: 0.00 V_rec: 5.16 V_kld: 0.00\n",
      "No. 147 T_rec: 3.47 T_kld: 0.00 V_rec: 5.15 V_kld: 0.00\n",
      "No. 148 T_rec: 3.47 T_kld: 0.00 V_rec: 5.15 V_kld: 0.00\n",
      "No. 149 T_rec: 3.47 T_kld: 0.00 V_rec: 5.14 V_kld: 0.00\n",
      "No. 150 T_rec: 3.46 T_kld: 0.00 V_rec: 5.13 V_kld: 0.00\n",
      "save model 150...\n"
     ]
    },
    {
     "name": "stderr",
     "output_type": "stream",
     "text": [
      "100%|██████████| 5/5 [00:00<00:00, 84.56it/s]\n"
     ]
    },
    {
     "name": "stdout",
     "output_type": "stream",
     "text": [
      "No. 151 T_rec: 3.47 T_kld: 0.00 V_rec: 5.13 V_kld: 0.00\n",
      "No. 152 T_rec: 3.46 T_kld: 0.00 V_rec: 5.12 V_kld: 0.00\n",
      "No. 153 T_rec: 3.44 T_kld: 0.00 V_rec: 5.11 V_kld: 0.00\n",
      "No. 154 T_rec: 3.45 T_kld: 0.00 V_rec: 5.10 V_kld: 0.00\n",
      "No. 155 T_rec: 3.43 T_kld: 0.00 V_rec: 5.10 V_kld: 0.00\n",
      "No. 156 T_rec: 3.40 T_kld: 0.00 V_rec: 5.09 V_kld: 0.00\n",
      "No. 157 T_rec: 3.43 T_kld: 0.00 V_rec: 5.08 V_kld: 0.00\n",
      "No. 158 T_rec: 3.41 T_kld: 0.00 V_rec: 5.08 V_kld: 0.00\n",
      "No. 159 T_rec: 3.44 T_kld: 0.00 V_rec: 5.07 V_kld: 0.00\n",
      "No. 160 T_rec: 3.42 T_kld: 0.00 V_rec: 5.06 V_kld: 0.00\n",
      "save model 160...\n"
     ]
    },
    {
     "name": "stderr",
     "output_type": "stream",
     "text": [
      "100%|██████████| 5/5 [00:00<00:00, 59.45it/s]\n"
     ]
    },
    {
     "name": "stdout",
     "output_type": "stream",
     "text": [
      "No. 161 T_rec: 3.42 T_kld: 0.00 V_rec: 5.06 V_kld: 0.00\n",
      "No. 162 T_rec: 3.42 T_kld: 0.00 V_rec: 5.05 V_kld: 0.00\n",
      "No. 163 T_rec: 3.41 T_kld: 0.00 V_rec: 5.04 V_kld: 0.00\n",
      "No. 164 T_rec: 3.39 T_kld: 0.00 V_rec: 5.04 V_kld: 0.00\n",
      "No. 165 T_rec: 3.40 T_kld: 0.00 V_rec: 5.03 V_kld: 0.00\n",
      "No. 166 T_rec: 3.41 T_kld: 0.00 V_rec: 5.02 V_kld: 0.00\n",
      "No. 167 T_rec: 3.41 T_kld: 0.00 V_rec: 5.02 V_kld: 0.00\n",
      "No. 168 T_rec: 3.41 T_kld: 0.00 V_rec: 5.01 V_kld: 0.00\n",
      "No. 169 T_rec: 3.39 T_kld: 0.00 V_rec: 5.00 V_kld: 0.00\n",
      "No. 170 T_rec: 3.41 T_kld: 0.00 V_rec: 5.00 V_kld: 0.00\n",
      "save model 170...\n"
     ]
    },
    {
     "name": "stderr",
     "output_type": "stream",
     "text": [
      "100%|██████████| 5/5 [00:00<00:00, 56.85it/s]\n"
     ]
    },
    {
     "name": "stdout",
     "output_type": "stream",
     "text": [
      "No. 171 T_rec: 3.38 T_kld: 0.00 V_rec: 4.99 V_kld: 0.00\n",
      "No. 172 T_rec: 3.39 T_kld: 0.00 V_rec: 4.98 V_kld: 0.00\n",
      "No. 173 T_rec: 3.37 T_kld: 0.00 V_rec: 4.98 V_kld: 0.00\n",
      "No. 174 T_rec: 3.38 T_kld: 0.00 V_rec: 4.97 V_kld: 0.00\n",
      "No. 175 T_rec: 3.37 T_kld: 0.00 V_rec: 4.96 V_kld: 0.00\n",
      "No. 176 T_rec: 3.36 T_kld: 0.00 V_rec: 4.96 V_kld: 0.00\n",
      "No. 177 T_rec: 3.36 T_kld: 0.00 V_rec: 4.95 V_kld: 0.00\n",
      "No. 178 T_rec: 3.36 T_kld: 0.00 V_rec: 4.95 V_kld: 0.00\n",
      "No. 179 T_rec: 3.38 T_kld: 0.00 V_rec: 4.94 V_kld: 0.00\n",
      "No. 180 T_rec: 3.38 T_kld: 0.00 V_rec: 4.93 V_kld: 0.00\n",
      "save model 180...\n"
     ]
    },
    {
     "name": "stderr",
     "output_type": "stream",
     "text": [
      "100%|██████████| 5/5 [00:00<00:00, 44.61it/s]\n"
     ]
    },
    {
     "name": "stdout",
     "output_type": "stream",
     "text": [
      "No. 181 T_rec: 3.37 T_kld: 0.00 V_rec: 4.93 V_kld: 0.00\n",
      "No. 182 T_rec: 3.35 T_kld: 0.00 V_rec: 4.92 V_kld: 0.00\n",
      "No. 183 T_rec: 3.37 T_kld: 0.00 V_rec: 4.92 V_kld: 0.00\n",
      "No. 184 T_rec: 3.36 T_kld: 0.00 V_rec: 4.91 V_kld: 0.00\n",
      "No. 185 T_rec: 3.36 T_kld: 0.00 V_rec: 4.90 V_kld: 0.00\n",
      "No. 186 T_rec: 3.34 T_kld: 0.00 V_rec: 4.90 V_kld: 0.00\n",
      "No. 187 T_rec: 3.38 T_kld: 0.00 V_rec: 4.89 V_kld: 0.00\n",
      "No. 188 T_rec: 3.33 T_kld: 0.00 V_rec: 4.88 V_kld: 0.00\n",
      "No. 189 T_rec: 3.31 T_kld: 0.00 V_rec: 4.88 V_kld: 0.00\n",
      "No. 190 T_rec: 3.35 T_kld: 0.00 V_rec: 4.87 V_kld: 0.00\n",
      "save model 190...\n"
     ]
    },
    {
     "name": "stderr",
     "output_type": "stream",
     "text": [
      "100%|██████████| 5/5 [00:00<00:00, 62.28it/s]\n"
     ]
    },
    {
     "name": "stdout",
     "output_type": "stream",
     "text": [
      "No. 191 T_rec: 3.36 T_kld: 0.00 V_rec: 4.87 V_kld: 0.00\n",
      "No. 192 T_rec: 3.33 T_kld: 0.00 V_rec: 4.86 V_kld: 0.00\n",
      "No. 193 T_rec: 3.31 T_kld: 0.00 V_rec: 4.85 V_kld: 0.00\n",
      "No. 194 T_rec: 3.34 T_kld: 0.00 V_rec: 4.85 V_kld: 0.00\n",
      "No. 195 T_rec: 3.37 T_kld: 0.00 V_rec: 4.84 V_kld: 0.00\n",
      "No. 196 T_rec: 3.31 T_kld: 0.00 V_rec: 4.84 V_kld: 0.00\n",
      "No. 197 T_rec: 3.35 T_kld: 0.00 V_rec: 4.83 V_kld: 0.00\n",
      "No. 198 T_rec: 3.32 T_kld: 0.00 V_rec: 4.83 V_kld: 0.00\n",
      "No. 199 T_rec: 3.31 T_kld: 0.00 V_rec: 4.82 V_kld: 0.00\n",
      "No. 200 T_rec: 3.32 T_kld: 0.00 V_rec: 4.81 V_kld: 0.00\n",
      "save model 200...\n"
     ]
    },
    {
     "name": "stderr",
     "output_type": "stream",
     "text": [
      "100%|██████████| 5/5 [00:00<00:00, 45.90it/s]\n"
     ]
    },
    {
     "name": "stdout",
     "output_type": "stream",
     "text": [
      "No. 201 T_rec: 3.31 T_kld: 0.00 V_rec: 4.81 V_kld: 0.00\n",
      "No. 202 T_rec: 3.32 T_kld: 0.00 V_rec: 4.80 V_kld: 0.00\n",
      "No. 203 T_rec: 3.31 T_kld: 0.00 V_rec: 4.80 V_kld: 0.00\n",
      "No. 204 T_rec: 3.34 T_kld: 0.00 V_rec: 4.79 V_kld: 0.00\n",
      "No. 205 T_rec: 3.31 T_kld: 0.00 V_rec: 4.78 V_kld: 0.00\n",
      "No. 206 T_rec: 3.32 T_kld: 0.00 V_rec: 4.78 V_kld: 0.00\n",
      "No. 207 T_rec: 3.31 T_kld: 0.00 V_rec: 4.77 V_kld: 0.00\n",
      "No. 208 T_rec: 3.28 T_kld: 0.00 V_rec: 4.77 V_kld: 0.00\n",
      "No. 209 T_rec: 3.30 T_kld: 0.00 V_rec: 4.76 V_kld: 0.00\n",
      "No. 210 T_rec: 3.32 T_kld: 0.00 V_rec: 4.76 V_kld: 0.00\n",
      "save model 210...\n"
     ]
    },
    {
     "name": "stderr",
     "output_type": "stream",
     "text": [
      "100%|██████████| 5/5 [00:00<00:00, 63.91it/s]\n"
     ]
    },
    {
     "name": "stdout",
     "output_type": "stream",
     "text": [
      "No. 211 T_rec: 3.29 T_kld: 0.00 V_rec: 4.75 V_kld: 0.00\n",
      "No. 212 T_rec: 3.30 T_kld: 0.00 V_rec: 4.75 V_kld: 0.00\n",
      "No. 213 T_rec: 3.29 T_kld: 0.00 V_rec: 4.74 V_kld: 0.00\n",
      "No. 214 T_rec: 3.29 T_kld: 0.00 V_rec: 4.73 V_kld: 0.00\n",
      "No. 215 T_rec: 3.27 T_kld: 0.00 V_rec: 4.73 V_kld: 0.00\n",
      "No. 216 T_rec: 3.27 T_kld: 0.00 V_rec: 4.73 V_kld: 0.00\n",
      "No. 217 T_rec: 3.29 T_kld: 0.00 V_rec: 4.72 V_kld: 0.00\n",
      "No. 218 T_rec: 3.29 T_kld: 0.00 V_rec: 4.71 V_kld: 0.00\n",
      "No. 219 T_rec: 3.27 T_kld: 0.00 V_rec: 4.71 V_kld: 0.00\n",
      "No. 220 T_rec: 3.29 T_kld: 0.00 V_rec: 4.70 V_kld: 0.00\n",
      "save model 220...\n"
     ]
    },
    {
     "name": "stderr",
     "output_type": "stream",
     "text": [
      "100%|██████████| 5/5 [00:00<00:00, 41.41it/s]\n"
     ]
    },
    {
     "name": "stdout",
     "output_type": "stream",
     "text": [
      "No. 221 T_rec: 3.27 T_kld: 0.00 V_rec: 4.70 V_kld: 0.00\n",
      "No. 222 T_rec: 3.29 T_kld: 0.00 V_rec: 4.69 V_kld: 0.00\n",
      "No. 223 T_rec: 3.29 T_kld: 0.00 V_rec: 4.69 V_kld: 0.00\n",
      "No. 224 T_rec: 3.28 T_kld: 0.00 V_rec: 4.68 V_kld: 0.00\n",
      "No. 225 T_rec: 3.27 T_kld: 0.00 V_rec: 4.68 V_kld: 0.00\n",
      "No. 226 T_rec: 3.27 T_kld: 0.00 V_rec: 4.67 V_kld: 0.00\n",
      "No. 227 T_rec: 3.27 T_kld: 0.00 V_rec: 4.67 V_kld: 0.00\n",
      "No. 228 T_rec: 3.26 T_kld: 0.00 V_rec: 4.66 V_kld: 0.00\n",
      "No. 229 T_rec: 3.25 T_kld: 0.00 V_rec: 4.66 V_kld: 0.00\n",
      "No. 230 T_rec: 3.24 T_kld: 0.00 V_rec: 4.65 V_kld: 0.00\n",
      "save model 230...\n"
     ]
    },
    {
     "name": "stderr",
     "output_type": "stream",
     "text": [
      "100%|██████████| 5/5 [00:00<00:00, 63.16it/s]\n"
     ]
    },
    {
     "name": "stdout",
     "output_type": "stream",
     "text": [
      "No. 231 T_rec: 3.28 T_kld: 0.00 V_rec: 4.65 V_kld: 0.00\n",
      "No. 232 T_rec: 3.25 T_kld: 0.00 V_rec: 4.64 V_kld: 0.00\n",
      "No. 233 T_rec: 3.26 T_kld: 0.00 V_rec: 4.64 V_kld: 0.00\n",
      "No. 234 T_rec: 3.25 T_kld: 0.00 V_rec: 4.63 V_kld: 0.00\n",
      "No. 235 T_rec: 3.25 T_kld: 0.00 V_rec: 4.63 V_kld: 0.00\n",
      "No. 236 T_rec: 3.26 T_kld: 0.00 V_rec: 4.62 V_kld: 0.00\n",
      "No. 237 T_rec: 3.23 T_kld: 0.00 V_rec: 4.62 V_kld: 0.00\n",
      "No. 238 T_rec: 3.24 T_kld: 0.00 V_rec: 4.61 V_kld: 0.00\n",
      "No. 239 T_rec: 3.24 T_kld: 0.00 V_rec: 4.61 V_kld: 0.00\n",
      "No. 240 T_rec: 3.24 T_kld: 0.00 V_rec: 4.60 V_kld: 0.00\n",
      "save model 240...\n"
     ]
    },
    {
     "name": "stderr",
     "output_type": "stream",
     "text": [
      "100%|██████████| 5/5 [00:00<00:00, 53.61it/s]\n"
     ]
    },
    {
     "name": "stdout",
     "output_type": "stream",
     "text": [
      "No. 241 T_rec: 3.25 T_kld: 0.00 V_rec: 4.60 V_kld: 0.00\n",
      "No. 242 T_rec: 3.21 T_kld: 0.00 V_rec: 4.59 V_kld: 0.00\n",
      "No. 243 T_rec: 3.25 T_kld: 0.00 V_rec: 4.59 V_kld: 0.00\n",
      "No. 244 T_rec: 3.23 T_kld: 0.00 V_rec: 4.58 V_kld: 0.00\n",
      "No. 245 T_rec: 3.20 T_kld: 0.00 V_rec: 4.58 V_kld: 0.00\n",
      "No. 246 T_rec: 3.21 T_kld: 0.00 V_rec: 4.57 V_kld: 0.00\n",
      "No. 247 T_rec: 3.23 T_kld: 0.00 V_rec: 4.57 V_kld: 0.00\n",
      "No. 248 T_rec: 3.21 T_kld: 0.00 V_rec: 4.56 V_kld: 0.00\n",
      "No. 249 T_rec: 3.21 T_kld: 0.00 V_rec: 4.56 V_kld: 0.00\n",
      "No. 250 T_rec: 3.19 T_kld: 0.00 V_rec: 4.55 V_kld: 0.00\n",
      "save model 250...\n"
     ]
    },
    {
     "name": "stderr",
     "output_type": "stream",
     "text": [
      "100%|██████████| 5/5 [00:00<00:00, 38.53it/s]\n"
     ]
    },
    {
     "name": "stdout",
     "output_type": "stream",
     "text": [
      "No. 251 T_rec: 3.20 T_kld: 0.00 V_rec: 4.55 V_kld: 0.00\n",
      "No. 252 T_rec: 3.22 T_kld: 0.00 V_rec: 4.55 V_kld: 0.00\n",
      "No. 253 T_rec: 3.23 T_kld: 0.00 V_rec: 4.54 V_kld: 0.00\n",
      "No. 254 T_rec: 3.20 T_kld: 0.00 V_rec: 4.54 V_kld: 0.00\n",
      "No. 255 T_rec: 3.23 T_kld: 0.00 V_rec: 4.53 V_kld: 0.00\n",
      "No. 256 T_rec: 3.18 T_kld: 0.00 V_rec: 4.53 V_kld: 0.00\n",
      "No. 257 T_rec: 3.18 T_kld: 0.00 V_rec: 4.52 V_kld: 0.00\n",
      "No. 258 T_rec: 3.20 T_kld: 0.00 V_rec: 4.52 V_kld: 0.00\n",
      "No. 259 T_rec: 3.18 T_kld: 0.00 V_rec: 4.51 V_kld: 0.00\n",
      "No. 260 T_rec: 3.19 T_kld: 0.00 V_rec: 4.51 V_kld: 0.00\n",
      "save model 260...\n"
     ]
    },
    {
     "name": "stderr",
     "output_type": "stream",
     "text": [
      "100%|██████████| 5/5 [00:00<00:00, 58.51it/s]\n"
     ]
    },
    {
     "name": "stdout",
     "output_type": "stream",
     "text": [
      "No. 261 T_rec: 3.20 T_kld: 0.00 V_rec: 4.50 V_kld: 0.00\n",
      "No. 262 T_rec: 3.18 T_kld: 0.00 V_rec: 4.50 V_kld: 0.00\n",
      "No. 263 T_rec: 3.18 T_kld: 0.00 V_rec: 4.49 V_kld: 0.00\n",
      "No. 264 T_rec: 3.18 T_kld: 0.00 V_rec: 4.49 V_kld: 0.00\n",
      "No. 265 T_rec: 3.20 T_kld: 0.00 V_rec: 4.49 V_kld: 0.00\n",
      "No. 266 T_rec: 3.17 T_kld: 0.00 V_rec: 4.48 V_kld: 0.00\n",
      "No. 267 T_rec: 3.18 T_kld: 0.00 V_rec: 4.48 V_kld: 0.00\n",
      "No. 268 T_rec: 3.15 T_kld: 0.00 V_rec: 4.47 V_kld: 0.00\n",
      "No. 269 T_rec: 3.17 T_kld: 0.00 V_rec: 4.47 V_kld: 0.00\n",
      "No. 270 T_rec: 3.17 T_kld: 0.00 V_rec: 4.46 V_kld: 0.00\n",
      "save model 270...\n"
     ]
    },
    {
     "name": "stderr",
     "output_type": "stream",
     "text": [
      "100%|██████████| 5/5 [00:00<00:00, 60.59it/s]\n"
     ]
    },
    {
     "name": "stdout",
     "output_type": "stream",
     "text": [
      "No. 271 T_rec: 3.17 T_kld: 0.00 V_rec: 4.46 V_kld: 0.00\n",
      "No. 272 T_rec: 3.17 T_kld: 0.00 V_rec: 4.45 V_kld: 0.00\n",
      "No. 273 T_rec: 3.19 T_kld: 0.00 V_rec: 4.45 V_kld: 0.00\n",
      "No. 274 T_rec: 3.17 T_kld: 0.00 V_rec: 4.45 V_kld: 0.00\n",
      "No. 275 T_rec: 3.15 T_kld: 0.00 V_rec: 4.44 V_kld: 0.00\n",
      "No. 276 T_rec: 3.14 T_kld: 0.00 V_rec: 4.44 V_kld: 0.00\n",
      "No. 277 T_rec: 3.14 T_kld: 0.00 V_rec: 4.43 V_kld: 0.00\n",
      "No. 278 T_rec: 3.17 T_kld: 0.00 V_rec: 4.43 V_kld: 0.00\n",
      "No. 279 T_rec: 3.15 T_kld: 0.00 V_rec: 4.42 V_kld: 0.00\n",
      "No. 280 T_rec: 3.16 T_kld: 0.00 V_rec: 4.42 V_kld: 0.00\n",
      "save model 280...\n"
     ]
    },
    {
     "name": "stderr",
     "output_type": "stream",
     "text": [
      "100%|██████████| 5/5 [00:00<00:00, 40.59it/s]\n"
     ]
    },
    {
     "name": "stdout",
     "output_type": "stream",
     "text": [
      "No. 281 T_rec: 3.14 T_kld: 0.00 V_rec: 4.42 V_kld: 0.00\n",
      "No. 282 T_rec: 3.16 T_kld: 0.00 V_rec: 4.41 V_kld: 0.00\n",
      "No. 283 T_rec: 3.16 T_kld: 0.00 V_rec: 4.41 V_kld: 0.00\n",
      "No. 284 T_rec: 3.11 T_kld: 0.00 V_rec: 4.40 V_kld: 0.00\n",
      "No. 285 T_rec: 3.15 T_kld: 0.00 V_rec: 4.40 V_kld: 0.00\n",
      "No. 286 T_rec: 3.13 T_kld: 0.00 V_rec: 4.40 V_kld: 0.00\n",
      "No. 287 T_rec: 3.13 T_kld: 0.00 V_rec: 4.39 V_kld: 0.00\n",
      "No. 288 T_rec: 3.12 T_kld: 0.00 V_rec: 4.39 V_kld: 0.00\n",
      "No. 289 T_rec: 3.11 T_kld: 0.00 V_rec: 4.38 V_kld: 0.00\n",
      "No. 290 T_rec: 3.13 T_kld: 0.00 V_rec: 4.38 V_kld: 0.00\n",
      "save model 290...\n"
     ]
    },
    {
     "name": "stderr",
     "output_type": "stream",
     "text": [
      "100%|██████████| 5/5 [00:00<00:00, 41.21it/s]\n"
     ]
    },
    {
     "name": "stdout",
     "output_type": "stream",
     "text": [
      "No. 291 T_rec: 3.13 T_kld: 0.00 V_rec: 4.37 V_kld: 0.00\n",
      "No. 292 T_rec: 3.12 T_kld: 0.00 V_rec: 4.37 V_kld: 0.00\n",
      "No. 293 T_rec: 3.12 T_kld: 0.00 V_rec: 4.37 V_kld: 0.00\n",
      "No. 294 T_rec: 3.12 T_kld: 0.00 V_rec: 4.36 V_kld: 0.00\n",
      "No. 295 T_rec: 3.12 T_kld: 0.00 V_rec: 4.36 V_kld: 0.00\n",
      "No. 296 T_rec: 3.11 T_kld: 0.00 V_rec: 4.35 V_kld: 0.00\n",
      "No. 297 T_rec: 3.13 T_kld: 0.00 V_rec: 4.35 V_kld: 0.00\n",
      "No. 298 T_rec: 3.14 T_kld: 0.00 V_rec: 4.34 V_kld: 0.00\n",
      "No. 299 T_rec: 3.12 T_kld: 0.00 V_rec: 4.34 V_kld: 0.00\n",
      "No. 300 T_rec: 3.10 T_kld: 0.00 V_rec: 4.34 V_kld: 0.00\n",
      "save model 300...\n"
     ]
    },
    {
     "name": "stderr",
     "output_type": "stream",
     "text": [
      "100%|██████████| 5/5 [00:00<00:00, 45.93it/s]\n"
     ]
    },
    {
     "name": "stdout",
     "output_type": "stream",
     "text": [
      "No. 301 T_rec: 3.10 T_kld: 0.00 V_rec: 4.33 V_kld: 0.00\n",
      "No. 302 T_rec: 3.12 T_kld: 0.00 V_rec: 4.33 V_kld: 0.00\n",
      "No. 303 T_rec: 3.11 T_kld: 0.00 V_rec: 4.32 V_kld: 0.00\n",
      "No. 304 T_rec: 3.10 T_kld: 0.00 V_rec: 4.32 V_kld: 0.00\n",
      "No. 305 T_rec: 3.11 T_kld: 0.00 V_rec: 4.32 V_kld: 0.00\n",
      "No. 306 T_rec: 3.10 T_kld: 0.00 V_rec: 4.31 V_kld: 0.00\n",
      "No. 307 T_rec: 3.07 T_kld: 0.00 V_rec: 4.31 V_kld: 0.00\n",
      "No. 308 T_rec: 3.10 T_kld: 0.00 V_rec: 4.30 V_kld: 0.00\n",
      "No. 309 T_rec: 3.10 T_kld: 0.00 V_rec: 4.30 V_kld: 0.00\n",
      "No. 310 T_rec: 3.07 T_kld: 0.00 V_rec: 4.30 V_kld: 0.00\n",
      "save model 310...\n"
     ]
    },
    {
     "name": "stderr",
     "output_type": "stream",
     "text": [
      "100%|██████████| 5/5 [00:00<00:00, 33.23it/s]\n"
     ]
    },
    {
     "name": "stdout",
     "output_type": "stream",
     "text": [
      "No. 311 T_rec: 3.10 T_kld: 0.00 V_rec: 4.29 V_kld: 0.00\n",
      "No. 312 T_rec: 3.09 T_kld: 0.00 V_rec: 4.29 V_kld: 0.00\n",
      "No. 313 T_rec: 3.11 T_kld: 0.00 V_rec: 4.29 V_kld: 0.00\n",
      "No. 314 T_rec: 3.08 T_kld: 0.00 V_rec: 4.28 V_kld: 0.00\n",
      "No. 315 T_rec: 3.08 T_kld: 0.00 V_rec: 4.28 V_kld: 0.00\n",
      "No. 316 T_rec: 3.08 T_kld: 0.00 V_rec: 4.27 V_kld: 0.00\n",
      "No. 317 T_rec: 3.06 T_kld: 0.00 V_rec: 4.27 V_kld: 0.00\n",
      "No. 318 T_rec: 3.09 T_kld: 0.00 V_rec: 4.27 V_kld: 0.00\n",
      "No. 319 T_rec: 3.07 T_kld: 0.00 V_rec: 4.26 V_kld: 0.00\n",
      "No. 320 T_rec: 3.08 T_kld: 0.00 V_rec: 4.26 V_kld: 0.00\n",
      "save model 320...\n"
     ]
    },
    {
     "name": "stderr",
     "output_type": "stream",
     "text": [
      "100%|██████████| 5/5 [00:00<00:00, 45.79it/s]\n"
     ]
    },
    {
     "name": "stdout",
     "output_type": "stream",
     "text": [
      "No. 321 T_rec: 3.08 T_kld: 0.00 V_rec: 4.25 V_kld: 0.00\n",
      "No. 322 T_rec: 3.07 T_kld: 0.00 V_rec: 4.25 V_kld: 0.00\n",
      "No. 323 T_rec: 3.08 T_kld: 0.00 V_rec: 4.25 V_kld: 0.00\n",
      "No. 324 T_rec: 3.08 T_kld: 0.00 V_rec: 4.24 V_kld: 0.00\n",
      "No. 325 T_rec: 3.09 T_kld: 0.00 V_rec: 4.24 V_kld: 0.00\n",
      "No. 326 T_rec: 3.08 T_kld: 0.00 V_rec: 4.23 V_kld: 0.00\n",
      "No. 327 T_rec: 3.07 T_kld: 0.00 V_rec: 4.23 V_kld: 0.00\n",
      "No. 328 T_rec: 3.09 T_kld: 0.00 V_rec: 4.23 V_kld: 0.00\n",
      "No. 329 T_rec: 3.05 T_kld: 0.00 V_rec: 4.22 V_kld: 0.00\n",
      "No. 330 T_rec: 3.05 T_kld: 0.00 V_rec: 4.22 V_kld: 0.00\n",
      "save model 330...\n"
     ]
    },
    {
     "name": "stderr",
     "output_type": "stream",
     "text": [
      "100%|██████████| 5/5 [00:00<00:00, 83.33it/s]\n"
     ]
    },
    {
     "name": "stdout",
     "output_type": "stream",
     "text": [
      "No. 331 T_rec: 3.06 T_kld: 0.00 V_rec: 4.22 V_kld: 0.00\n",
      "No. 332 T_rec: 3.07 T_kld: 0.00 V_rec: 4.21 V_kld: 0.00\n",
      "No. 333 T_rec: 3.06 T_kld: 0.00 V_rec: 4.21 V_kld: 0.00\n",
      "No. 334 T_rec: 3.07 T_kld: 0.00 V_rec: 4.20 V_kld: 0.00\n",
      "No. 335 T_rec: 3.04 T_kld: 0.00 V_rec: 4.20 V_kld: 0.00\n",
      "No. 336 T_rec: 3.07 T_kld: 0.00 V_rec: 4.20 V_kld: 0.00\n",
      "No. 337 T_rec: 3.07 T_kld: 0.00 V_rec: 4.19 V_kld: 0.00\n",
      "No. 338 T_rec: 3.04 T_kld: 0.00 V_rec: 4.19 V_kld: 0.00\n",
      "No. 339 T_rec: 3.06 T_kld: 0.00 V_rec: 4.19 V_kld: 0.00\n",
      "No. 340 T_rec: 3.05 T_kld: 0.00 V_rec: 4.18 V_kld: 0.00\n",
      "save model 340...\n"
     ]
    },
    {
     "name": "stderr",
     "output_type": "stream",
     "text": [
      "100%|██████████| 5/5 [00:00<00:00, 76.66it/s]\n"
     ]
    },
    {
     "name": "stdout",
     "output_type": "stream",
     "text": [
      "No. 341 T_rec: 3.06 T_kld: 0.00 V_rec: 4.18 V_kld: 0.00\n",
      "No. 342 T_rec: 3.03 T_kld: 0.00 V_rec: 4.18 V_kld: 0.00\n",
      "No. 343 T_rec: 3.04 T_kld: 0.00 V_rec: 4.17 V_kld: 0.00\n",
      "No. 344 T_rec: 3.04 T_kld: 0.00 V_rec: 4.17 V_kld: 0.00\n",
      "No. 345 T_rec: 3.04 T_kld: 0.00 V_rec: 4.16 V_kld: 0.00\n",
      "No. 346 T_rec: 3.04 T_kld: 0.00 V_rec: 4.16 V_kld: 0.00\n",
      "No. 347 T_rec: 3.04 T_kld: 0.00 V_rec: 4.16 V_kld: 0.00\n",
      "No. 348 T_rec: 3.03 T_kld: 0.00 V_rec: 4.15 V_kld: 0.00\n",
      "No. 349 T_rec: 3.04 T_kld: 0.00 V_rec: 4.15 V_kld: 0.00\n",
      "No. 350 T_rec: 3.03 T_kld: 0.00 V_rec: 4.15 V_kld: 0.00\n",
      "save model 350...\n"
     ]
    },
    {
     "name": "stderr",
     "output_type": "stream",
     "text": [
      "100%|██████████| 5/5 [00:00<00:00, 53.58it/s]\n"
     ]
    },
    {
     "name": "stdout",
     "output_type": "stream",
     "text": [
      "No. 351 T_rec: 3.02 T_kld: 0.00 V_rec: 4.14 V_kld: 0.00\n",
      "No. 352 T_rec: 3.01 T_kld: 0.00 V_rec: 4.14 V_kld: 0.00\n",
      "No. 353 T_rec: 3.01 T_kld: 0.00 V_rec: 4.14 V_kld: 0.00\n",
      "No. 354 T_rec: 3.02 T_kld: 0.00 V_rec: 4.13 V_kld: 0.00\n",
      "No. 355 T_rec: 3.02 T_kld: 0.00 V_rec: 4.13 V_kld: 0.00\n",
      "No. 356 T_rec: 3.03 T_kld: 0.00 V_rec: 4.13 V_kld: 0.00\n",
      "No. 357 T_rec: 3.04 T_kld: 0.00 V_rec: 4.12 V_kld: 0.00\n",
      "No. 358 T_rec: 3.03 T_kld: 0.00 V_rec: 4.12 V_kld: 0.00\n",
      "No. 359 T_rec: 3.02 T_kld: 0.00 V_rec: 4.12 V_kld: 0.00\n",
      "No. 360 T_rec: 3.00 T_kld: 0.00 V_rec: 4.11 V_kld: 0.00\n",
      "save model 360...\n"
     ]
    },
    {
     "name": "stderr",
     "output_type": "stream",
     "text": [
      "100%|██████████| 5/5 [00:00<00:00, 57.26it/s]\n"
     ]
    },
    {
     "name": "stdout",
     "output_type": "stream",
     "text": [
      "No. 361 T_rec: 3.01 T_kld: 0.00 V_rec: 4.11 V_kld: 0.00\n",
      "No. 362 T_rec: 3.02 T_kld: 0.00 V_rec: 4.10 V_kld: 0.00\n",
      "No. 363 T_rec: 2.98 T_kld: 0.00 V_rec: 4.10 V_kld: 0.00\n",
      "No. 364 T_rec: 3.03 T_kld: 0.00 V_rec: 4.10 V_kld: 0.00\n",
      "No. 365 T_rec: 2.99 T_kld: 0.00 V_rec: 4.09 V_kld: 0.00\n",
      "No. 366 T_rec: 2.99 T_kld: 0.00 V_rec: 4.09 V_kld: 0.00\n",
      "No. 367 T_rec: 3.00 T_kld: 0.00 V_rec: 4.09 V_kld: 0.00\n",
      "No. 368 T_rec: 2.98 T_kld: 0.00 V_rec: 4.09 V_kld: 0.00\n",
      "No. 369 T_rec: 3.01 T_kld: 0.00 V_rec: 4.08 V_kld: 0.00\n",
      "No. 370 T_rec: 3.00 T_kld: 0.00 V_rec: 4.08 V_kld: 0.00\n",
      "save model 370...\n"
     ]
    },
    {
     "name": "stderr",
     "output_type": "stream",
     "text": [
      "100%|██████████| 5/5 [00:00<00:00, 51.07it/s]\n"
     ]
    },
    {
     "name": "stdout",
     "output_type": "stream",
     "text": [
      "No. 371 T_rec: 3.01 T_kld: 0.00 V_rec: 4.07 V_kld: 0.00\n",
      "No. 372 T_rec: 3.00 T_kld: 0.00 V_rec: 4.07 V_kld: 0.00\n",
      "No. 373 T_rec: 2.97 T_kld: 0.00 V_rec: 4.07 V_kld: 0.00\n",
      "No. 374 T_rec: 3.01 T_kld: 0.00 V_rec: 4.06 V_kld: 0.00\n",
      "No. 375 T_rec: 2.99 T_kld: 0.00 V_rec: 4.06 V_kld: 0.00\n",
      "No. 376 T_rec: 2.97 T_kld: 0.00 V_rec: 4.06 V_kld: 0.00\n",
      "No. 377 T_rec: 2.99 T_kld: 0.00 V_rec: 4.05 V_kld: 0.00\n",
      "No. 378 T_rec: 2.99 T_kld: 0.00 V_rec: 4.05 V_kld: 0.00\n",
      "No. 379 T_rec: 2.98 T_kld: 0.00 V_rec: 4.05 V_kld: 0.00\n",
      "No. 380 T_rec: 2.99 T_kld: 0.00 V_rec: 4.04 V_kld: 0.00\n",
      "save model 380...\n"
     ]
    },
    {
     "name": "stderr",
     "output_type": "stream",
     "text": [
      "100%|██████████| 5/5 [00:00<00:00, 63.86it/s]\n"
     ]
    },
    {
     "name": "stdout",
     "output_type": "stream",
     "text": [
      "No. 381 T_rec: 3.00 T_kld: 0.00 V_rec: 4.04 V_kld: 0.00\n",
      "No. 382 T_rec: 3.00 T_kld: 0.00 V_rec: 4.04 V_kld: 0.00\n",
      "No. 383 T_rec: 3.00 T_kld: 0.00 V_rec: 4.03 V_kld: 0.00\n",
      "No. 384 T_rec: 2.98 T_kld: 0.00 V_rec: 4.03 V_kld: 0.00\n",
      "No. 385 T_rec: 2.99 T_kld: 0.00 V_rec: 4.03 V_kld: 0.00\n",
      "No. 386 T_rec: 2.98 T_kld: 0.00 V_rec: 4.02 V_kld: 0.00\n",
      "No. 387 T_rec: 3.01 T_kld: 0.00 V_rec: 4.02 V_kld: 0.00\n",
      "No. 388 T_rec: 2.98 T_kld: 0.00 V_rec: 4.02 V_kld: 0.00\n",
      "No. 389 T_rec: 2.99 T_kld: 0.00 V_rec: 4.01 V_kld: 0.00\n",
      "No. 390 T_rec: 2.97 T_kld: 0.00 V_rec: 4.01 V_kld: 0.00\n",
      "save model 390...\n"
     ]
    },
    {
     "name": "stderr",
     "output_type": "stream",
     "text": [
      "100%|██████████| 5/5 [00:00<00:00, 42.50it/s]\n"
     ]
    },
    {
     "name": "stdout",
     "output_type": "stream",
     "text": [
      "No. 391 T_rec: 2.95 T_kld: 0.00 V_rec: 4.01 V_kld: 0.00\n",
      "No. 392 T_rec: 2.97 T_kld: 0.00 V_rec: 4.01 V_kld: 0.00\n",
      "No. 393 T_rec: 2.94 T_kld: 0.00 V_rec: 4.00 V_kld: 0.00\n",
      "No. 394 T_rec: 2.98 T_kld: 0.00 V_rec: 4.00 V_kld: 0.00\n",
      "No. 395 T_rec: 2.95 T_kld: 0.00 V_rec: 4.00 V_kld: 0.00\n",
      "No. 396 T_rec: 2.95 T_kld: 0.00 V_rec: 3.99 V_kld: 0.00\n",
      "No. 397 T_rec: 2.96 T_kld: 0.00 V_rec: 3.99 V_kld: 0.00\n",
      "No. 398 T_rec: 2.93 T_kld: 0.00 V_rec: 3.99 V_kld: 0.00\n",
      "No. 399 T_rec: 2.96 T_kld: 0.00 V_rec: 3.98 V_kld: 0.00\n",
      "No. 400 T_rec: 2.96 T_kld: 0.00 V_rec: 3.98 V_kld: 0.00\n",
      "save model 400...\n"
     ]
    },
    {
     "name": "stderr",
     "output_type": "stream",
     "text": [
      "100%|██████████| 5/5 [00:00<00:00, 64.07it/s]\n"
     ]
    },
    {
     "name": "stdout",
     "output_type": "stream",
     "text": [
      "No. 401 T_rec: 2.96 T_kld: 0.00 V_rec: 3.98 V_kld: 0.00\n",
      "No. 402 T_rec: 2.96 T_kld: 0.00 V_rec: 3.97 V_kld: 0.00\n",
      "No. 403 T_rec: 2.94 T_kld: 0.00 V_rec: 3.97 V_kld: 0.00\n",
      "No. 404 T_rec: 2.96 T_kld: 0.00 V_rec: 3.97 V_kld: 0.00\n",
      "No. 405 T_rec: 2.92 T_kld: 0.00 V_rec: 3.96 V_kld: 0.00\n",
      "No. 406 T_rec: 2.96 T_kld: 0.00 V_rec: 3.96 V_kld: 0.00\n",
      "No. 407 T_rec: 2.94 T_kld: 0.00 V_rec: 3.96 V_kld: 0.00\n",
      "No. 408 T_rec: 2.93 T_kld: 0.00 V_rec: 3.95 V_kld: 0.00\n",
      "No. 409 T_rec: 2.94 T_kld: 0.00 V_rec: 3.95 V_kld: 0.00\n",
      "No. 410 T_rec: 2.97 T_kld: 0.00 V_rec: 3.95 V_kld: 0.00\n",
      "save model 410...\n"
     ]
    },
    {
     "name": "stderr",
     "output_type": "stream",
     "text": [
      "100%|██████████| 5/5 [00:00<00:00, 51.23it/s]\n"
     ]
    },
    {
     "name": "stdout",
     "output_type": "stream",
     "text": [
      "No. 411 T_rec: 2.94 T_kld: 0.00 V_rec: 3.95 V_kld: 0.00\n",
      "No. 412 T_rec: 2.92 T_kld: 0.00 V_rec: 3.94 V_kld: 0.00\n",
      "No. 413 T_rec: 2.94 T_kld: 0.00 V_rec: 3.94 V_kld: 0.00\n",
      "No. 414 T_rec: 2.92 T_kld: 0.00 V_rec: 3.94 V_kld: 0.00\n",
      "No. 415 T_rec: 2.94 T_kld: 0.00 V_rec: 3.93 V_kld: 0.00\n",
      "No. 416 T_rec: 2.94 T_kld: 0.00 V_rec: 3.93 V_kld: 0.00\n",
      "No. 417 T_rec: 2.94 T_kld: 0.00 V_rec: 3.93 V_kld: 0.00\n",
      "No. 418 T_rec: 2.92 T_kld: 0.00 V_rec: 3.92 V_kld: 0.00\n",
      "No. 419 T_rec: 2.95 T_kld: 0.00 V_rec: 3.92 V_kld: 0.00\n",
      "No. 420 T_rec: 2.94 T_kld: 0.00 V_rec: 3.92 V_kld: 0.00\n",
      "save model 420...\n"
     ]
    },
    {
     "name": "stderr",
     "output_type": "stream",
     "text": [
      "100%|██████████| 5/5 [00:00<00:00, 73.08it/s]\n"
     ]
    },
    {
     "name": "stdout",
     "output_type": "stream",
     "text": [
      "No. 421 T_rec: 2.92 T_kld: 0.00 V_rec: 3.91 V_kld: 0.00\n",
      "No. 422 T_rec: 2.91 T_kld: 0.00 V_rec: 3.91 V_kld: 0.00\n",
      "No. 423 T_rec: 2.91 T_kld: 0.00 V_rec: 3.91 V_kld: 0.00\n",
      "No. 424 T_rec: 2.93 T_kld: 0.00 V_rec: 3.91 V_kld: 0.00\n",
      "No. 425 T_rec: 2.92 T_kld: 0.00 V_rec: 3.90 V_kld: 0.00\n",
      "No. 426 T_rec: 2.93 T_kld: 0.00 V_rec: 3.90 V_kld: 0.00\n",
      "No. 427 T_rec: 2.93 T_kld: 0.00 V_rec: 3.90 V_kld: 0.00\n",
      "No. 428 T_rec: 2.93 T_kld: 0.00 V_rec: 3.89 V_kld: 0.00\n",
      "No. 429 T_rec: 2.90 T_kld: 0.00 V_rec: 3.89 V_kld: 0.00\n",
      "No. 430 T_rec: 2.93 T_kld: 0.00 V_rec: 3.89 V_kld: 0.00\n",
      "save model 430...\n"
     ]
    },
    {
     "name": "stderr",
     "output_type": "stream",
     "text": [
      "100%|██████████| 5/5 [00:00<00:00, 50.45it/s]\n"
     ]
    },
    {
     "name": "stdout",
     "output_type": "stream",
     "text": [
      "No. 431 T_rec: 2.91 T_kld: 0.00 V_rec: 3.88 V_kld: 0.00\n",
      "No. 432 T_rec: 2.91 T_kld: 0.00 V_rec: 3.88 V_kld: 0.00\n",
      "No. 433 T_rec: 2.91 T_kld: 0.00 V_rec: 3.88 V_kld: 0.00\n",
      "No. 434 T_rec: 2.91 T_kld: 0.00 V_rec: 3.88 V_kld: 0.00\n",
      "No. 435 T_rec: 2.90 T_kld: 0.00 V_rec: 3.87 V_kld: 0.00\n",
      "No. 436 T_rec: 2.92 T_kld: 0.00 V_rec: 3.87 V_kld: 0.00\n",
      "No. 437 T_rec: 2.92 T_kld: 0.00 V_rec: 3.87 V_kld: 0.00\n",
      "No. 438 T_rec: 2.89 T_kld: 0.00 V_rec: 3.86 V_kld: 0.00\n",
      "No. 439 T_rec: 2.92 T_kld: 0.00 V_rec: 3.86 V_kld: 0.00\n",
      "No. 440 T_rec: 2.88 T_kld: 0.00 V_rec: 3.86 V_kld: 0.00\n",
      "save model 440...\n"
     ]
    },
    {
     "name": "stderr",
     "output_type": "stream",
     "text": [
      "100%|██████████| 5/5 [00:00<00:00, 62.39it/s]\n"
     ]
    },
    {
     "name": "stdout",
     "output_type": "stream",
     "text": [
      "No. 441 T_rec: 2.92 T_kld: 0.00 V_rec: 3.86 V_kld: 0.00\n",
      "No. 442 T_rec: 2.90 T_kld: 0.00 V_rec: 3.85 V_kld: 0.00\n",
      "No. 443 T_rec: 2.90 T_kld: 0.00 V_rec: 3.85 V_kld: 0.00\n",
      "No. 444 T_rec: 2.88 T_kld: 0.00 V_rec: 3.85 V_kld: 0.00\n",
      "No. 445 T_rec: 2.90 T_kld: 0.00 V_rec: 3.84 V_kld: 0.00\n",
      "No. 446 T_rec: 2.92 T_kld: 0.00 V_rec: 3.84 V_kld: 0.00\n",
      "No. 447 T_rec: 2.87 T_kld: 0.00 V_rec: 3.84 V_kld: 0.00\n",
      "No. 448 T_rec: 2.89 T_kld: 0.00 V_rec: 3.84 V_kld: 0.00\n",
      "No. 449 T_rec: 2.89 T_kld: 0.00 V_rec: 3.83 V_kld: 0.00\n",
      "No. 450 T_rec: 2.88 T_kld: 0.00 V_rec: 3.83 V_kld: 0.00\n",
      "save model 450...\n"
     ]
    },
    {
     "name": "stderr",
     "output_type": "stream",
     "text": [
      "100%|██████████| 5/5 [00:00<00:00, 48.81it/s]\n"
     ]
    },
    {
     "name": "stdout",
     "output_type": "stream",
     "text": [
      "No. 451 T_rec: 2.90 T_kld: 0.00 V_rec: 3.83 V_kld: 0.00\n",
      "No. 452 T_rec: 2.86 T_kld: 0.00 V_rec: 3.82 V_kld: 0.00\n",
      "No. 453 T_rec: 2.87 T_kld: 0.00 V_rec: 3.82 V_kld: 0.00\n",
      "No. 454 T_rec: 2.87 T_kld: 0.00 V_rec: 3.82 V_kld: 0.00\n",
      "No. 455 T_rec: 2.89 T_kld: 0.00 V_rec: 3.81 V_kld: 0.00\n",
      "No. 456 T_rec: 2.89 T_kld: 0.00 V_rec: 3.81 V_kld: 0.00\n",
      "No. 457 T_rec: 2.87 T_kld: 0.00 V_rec: 3.81 V_kld: 0.00\n",
      "No. 458 T_rec: 2.86 T_kld: 0.00 V_rec: 3.81 V_kld: 0.00\n",
      "No. 459 T_rec: 2.87 T_kld: 0.00 V_rec: 3.80 V_kld: 0.00\n",
      "No. 460 T_rec: 2.85 T_kld: 0.00 V_rec: 3.80 V_kld: 0.00\n",
      "save model 460...\n"
     ]
    },
    {
     "name": "stderr",
     "output_type": "stream",
     "text": [
      "100%|██████████| 5/5 [00:00<00:00, 52.45it/s]\n"
     ]
    },
    {
     "name": "stdout",
     "output_type": "stream",
     "text": [
      "No. 461 T_rec: 2.86 T_kld: 0.00 V_rec: 3.80 V_kld: 0.00\n",
      "No. 462 T_rec: 2.87 T_kld: 0.00 V_rec: 3.79 V_kld: 0.00\n",
      "No. 463 T_rec: 2.87 T_kld: 0.00 V_rec: 3.79 V_kld: 0.00\n",
      "No. 464 T_rec: 2.86 T_kld: 0.00 V_rec: 3.79 V_kld: 0.00\n",
      "No. 465 T_rec: 2.86 T_kld: 0.00 V_rec: 3.79 V_kld: 0.00\n",
      "No. 466 T_rec: 2.88 T_kld: 0.00 V_rec: 3.78 V_kld: 0.00\n",
      "No. 467 T_rec: 2.85 T_kld: 0.00 V_rec: 3.78 V_kld: 0.00\n",
      "No. 468 T_rec: 2.87 T_kld: 0.00 V_rec: 3.78 V_kld: 0.00\n",
      "No. 469 T_rec: 2.87 T_kld: 0.00 V_rec: 3.78 V_kld: 0.00\n",
      "No. 470 T_rec: 2.87 T_kld: 0.00 V_rec: 3.77 V_kld: 0.00\n",
      "save model 470...\n"
     ]
    },
    {
     "name": "stderr",
     "output_type": "stream",
     "text": [
      "100%|██████████| 5/5 [00:00<00:00, 67.44it/s]\n"
     ]
    },
    {
     "name": "stdout",
     "output_type": "stream",
     "text": [
      "No. 471 T_rec: 2.86 T_kld: 0.00 V_rec: 3.77 V_kld: 0.00\n",
      "No. 472 T_rec: 2.87 T_kld: 0.00 V_rec: 3.77 V_kld: 0.00\n",
      "No. 473 T_rec: 2.85 T_kld: 0.00 V_rec: 3.76 V_kld: 0.00\n",
      "No. 474 T_rec: 2.87 T_kld: 0.00 V_rec: 3.76 V_kld: 0.00\n",
      "No. 475 T_rec: 2.85 T_kld: 0.00 V_rec: 3.76 V_kld: 0.00\n",
      "No. 476 T_rec: 2.86 T_kld: 0.00 V_rec: 3.75 V_kld: 0.00\n",
      "No. 477 T_rec: 2.86 T_kld: 0.00 V_rec: 3.75 V_kld: 0.00\n",
      "No. 478 T_rec: 2.90 T_kld: 0.00 V_rec: 3.75 V_kld: 0.00\n",
      "No. 479 T_rec: 2.83 T_kld: 0.00 V_rec: 3.75 V_kld: 0.00\n",
      "No. 480 T_rec: 2.84 T_kld: 0.00 V_rec: 3.74 V_kld: 0.00\n",
      "save model 480...\n"
     ]
    },
    {
     "name": "stderr",
     "output_type": "stream",
     "text": [
      "100%|██████████| 5/5 [00:00<00:00, 53.52it/s]\n"
     ]
    },
    {
     "name": "stdout",
     "output_type": "stream",
     "text": [
      "No. 481 T_rec: 2.85 T_kld: 0.00 V_rec: 3.74 V_kld: 0.00\n",
      "No. 482 T_rec: 2.85 T_kld: 0.00 V_rec: 3.74 V_kld: 0.00\n",
      "No. 483 T_rec: 2.86 T_kld: 0.00 V_rec: 3.74 V_kld: 0.00\n",
      "No. 484 T_rec: 2.86 T_kld: 0.00 V_rec: 3.73 V_kld: 0.00\n",
      "No. 485 T_rec: 2.84 T_kld: 0.00 V_rec: 3.73 V_kld: 0.00\n",
      "No. 486 T_rec: 2.84 T_kld: 0.00 V_rec: 3.73 V_kld: 0.00\n",
      "No. 487 T_rec: 2.85 T_kld: 0.00 V_rec: 3.72 V_kld: 0.00\n",
      "No. 488 T_rec: 2.85 T_kld: 0.00 V_rec: 3.72 V_kld: 0.00\n",
      "No. 489 T_rec: 2.85 T_kld: 0.00 V_rec: 3.72 V_kld: 0.00\n",
      "No. 490 T_rec: 2.82 T_kld: 0.00 V_rec: 3.72 V_kld: 0.00\n",
      "save model 490...\n"
     ]
    },
    {
     "name": "stderr",
     "output_type": "stream",
     "text": [
      "100%|██████████| 5/5 [00:00<00:00, 45.59it/s]\n"
     ]
    },
    {
     "name": "stdout",
     "output_type": "stream",
     "text": [
      "No. 491 T_rec: 2.86 T_kld: 0.00 V_rec: 3.72 V_kld: 0.00\n",
      "No. 492 T_rec: 2.83 T_kld: 0.00 V_rec: 3.71 V_kld: 0.00\n",
      "No. 493 T_rec: 2.85 T_kld: 0.00 V_rec: 3.71 V_kld: 0.00\n",
      "No. 494 T_rec: 2.85 T_kld: 0.00 V_rec: 3.71 V_kld: 0.00\n",
      "No. 495 T_rec: 2.84 T_kld: 0.00 V_rec: 3.70 V_kld: 0.00\n",
      "No. 496 T_rec: 2.82 T_kld: 0.00 V_rec: 3.70 V_kld: 0.00\n",
      "No. 497 T_rec: 2.82 T_kld: 0.00 V_rec: 3.70 V_kld: 0.00\n",
      "No. 498 T_rec: 2.84 T_kld: 0.00 V_rec: 3.70 V_kld: 0.00\n",
      "No. 499 T_rec: 2.84 T_kld: 0.00 V_rec: 3.69 V_kld: 0.00\n",
      "No. 500 T_rec: 2.82 T_kld: 0.00 V_rec: 3.69 V_kld: 0.00\n",
      "save model 500...\n"
     ]
    },
    {
     "name": "stderr",
     "output_type": "stream",
     "text": [
      "100%|██████████| 5/5 [00:00<00:00, 54.35it/s]\n"
     ]
    },
    {
     "name": "stdout",
     "output_type": "stream",
     "text": [
      "No. 501 T_rec: 2.81 T_kld: 0.00 V_rec: 3.69 V_kld: 0.00\n",
      "No. 502 T_rec: 2.84 T_kld: 0.00 V_rec: 3.69 V_kld: 0.00\n",
      "No. 503 T_rec: 2.82 T_kld: 0.00 V_rec: 3.68 V_kld: 0.00\n",
      "No. 504 T_rec: 2.83 T_kld: 0.00 V_rec: 3.68 V_kld: 0.00\n",
      "No. 505 T_rec: 2.82 T_kld: 0.00 V_rec: 3.68 V_kld: 0.00\n",
      "No. 506 T_rec: 2.81 T_kld: 0.00 V_rec: 3.67 V_kld: 0.00\n",
      "No. 507 T_rec: 2.84 T_kld: 0.00 V_rec: 3.67 V_kld: 0.00\n",
      "No. 508 T_rec: 2.82 T_kld: 0.00 V_rec: 3.67 V_kld: 0.00\n",
      "No. 509 T_rec: 2.81 T_kld: 0.00 V_rec: 3.67 V_kld: 0.00\n",
      "No. 510 T_rec: 2.81 T_kld: 0.00 V_rec: 3.66 V_kld: 0.00\n",
      "save model 510...\n"
     ]
    },
    {
     "name": "stderr",
     "output_type": "stream",
     "text": [
      "100%|██████████| 5/5 [00:00<00:00, 51.08it/s]\n"
     ]
    },
    {
     "name": "stdout",
     "output_type": "stream",
     "text": [
      "No. 511 T_rec: 2.78 T_kld: 0.00 V_rec: 3.66 V_kld: 0.00\n",
      "No. 512 T_rec: 2.83 T_kld: 0.00 V_rec: 3.66 V_kld: 0.00\n",
      "No. 513 T_rec: 2.83 T_kld: 0.00 V_rec: 3.66 V_kld: 0.00\n",
      "No. 514 T_rec: 2.81 T_kld: 0.00 V_rec: 3.65 V_kld: 0.00\n",
      "No. 515 T_rec: 2.81 T_kld: 0.00 V_rec: 3.65 V_kld: 0.00\n",
      "No. 516 T_rec: 2.80 T_kld: 0.00 V_rec: 3.65 V_kld: 0.00\n",
      "No. 517 T_rec: 2.82 T_kld: 0.00 V_rec: 3.65 V_kld: 0.00\n",
      "No. 518 T_rec: 2.82 T_kld: 0.00 V_rec: 3.64 V_kld: 0.00\n",
      "No. 519 T_rec: 2.80 T_kld: 0.00 V_rec: 3.64 V_kld: 0.00\n",
      "No. 520 T_rec: 2.79 T_kld: 0.00 V_rec: 3.64 V_kld: 0.00\n",
      "save model 520...\n"
     ]
    },
    {
     "name": "stderr",
     "output_type": "stream",
     "text": [
      "100%|██████████| 5/5 [00:00<00:00, 48.45it/s]\n"
     ]
    },
    {
     "name": "stdout",
     "output_type": "stream",
     "text": [
      "No. 521 T_rec: 2.77 T_kld: 0.00 V_rec: 3.64 V_kld: 0.00\n",
      "No. 522 T_rec: 2.78 T_kld: 0.00 V_rec: 3.63 V_kld: 0.00\n",
      "No. 523 T_rec: 2.78 T_kld: 0.00 V_rec: 3.63 V_kld: 0.00\n",
      "No. 524 T_rec: 2.79 T_kld: 0.00 V_rec: 3.63 V_kld: 0.00\n",
      "No. 525 T_rec: 2.81 T_kld: 0.00 V_rec: 3.62 V_kld: 0.00\n",
      "No. 526 T_rec: 2.79 T_kld: 0.00 V_rec: 3.62 V_kld: 0.00\n",
      "No. 527 T_rec: 2.79 T_kld: 0.00 V_rec: 3.62 V_kld: 0.00\n",
      "No. 528 T_rec: 2.77 T_kld: 0.00 V_rec: 3.62 V_kld: 0.00\n",
      "No. 529 T_rec: 2.79 T_kld: 0.00 V_rec: 3.61 V_kld: 0.00\n",
      "No. 530 T_rec: 2.81 T_kld: 0.00 V_rec: 3.61 V_kld: 0.00\n",
      "save model 530...\n"
     ]
    },
    {
     "name": "stderr",
     "output_type": "stream",
     "text": [
      "100%|██████████| 5/5 [00:00<00:00, 68.44it/s]\n"
     ]
    },
    {
     "name": "stdout",
     "output_type": "stream",
     "text": [
      "No. 531 T_rec: 2.78 T_kld: 0.00 V_rec: 3.61 V_kld: 0.00\n",
      "No. 532 T_rec: 2.79 T_kld: 0.00 V_rec: 3.61 V_kld: 0.00\n",
      "No. 533 T_rec: 2.81 T_kld: 0.00 V_rec: 3.61 V_kld: 0.00\n",
      "No. 534 T_rec: 2.80 T_kld: 0.00 V_rec: 3.60 V_kld: 0.00\n",
      "No. 535 T_rec: 2.80 T_kld: 0.00 V_rec: 3.60 V_kld: 0.00\n",
      "No. 536 T_rec: 2.77 T_kld: 0.00 V_rec: 3.60 V_kld: 0.00\n",
      "No. 537 T_rec: 2.77 T_kld: 0.00 V_rec: 3.60 V_kld: 0.00\n",
      "No. 538 T_rec: 2.77 T_kld: 0.00 V_rec: 3.59 V_kld: 0.00\n",
      "No. 539 T_rec: 2.77 T_kld: 0.00 V_rec: 3.59 V_kld: 0.00\n",
      "No. 540 T_rec: 2.78 T_kld: 0.00 V_rec: 3.59 V_kld: 0.00\n",
      "save model 540...\n"
     ]
    },
    {
     "name": "stderr",
     "output_type": "stream",
     "text": [
      "100%|██████████| 5/5 [00:00<00:00, 66.49it/s]\n"
     ]
    },
    {
     "name": "stdout",
     "output_type": "stream",
     "text": [
      "No. 541 T_rec: 2.76 T_kld: 0.00 V_rec: 3.58 V_kld: 0.00\n",
      "No. 542 T_rec: 2.75 T_kld: 0.00 V_rec: 3.58 V_kld: 0.00\n",
      "No. 543 T_rec: 2.76 T_kld: 0.00 V_rec: 3.58 V_kld: 0.00\n",
      "No. 544 T_rec: 2.77 T_kld: 0.00 V_rec: 3.58 V_kld: 0.00\n",
      "No. 545 T_rec: 2.77 T_kld: 0.00 V_rec: 3.57 V_kld: 0.00\n",
      "No. 546 T_rec: 2.77 T_kld: 0.00 V_rec: 3.57 V_kld: 0.00\n",
      "No. 547 T_rec: 2.79 T_kld: 0.00 V_rec: 3.57 V_kld: 0.00\n",
      "No. 548 T_rec: 2.76 T_kld: 0.00 V_rec: 3.57 V_kld: 0.00\n",
      "No. 549 T_rec: 2.73 T_kld: 0.00 V_rec: 3.56 V_kld: 0.00\n",
      "No. 550 T_rec: 2.76 T_kld: 0.00 V_rec: 3.56 V_kld: 0.00\n",
      "save model 550...\n"
     ]
    },
    {
     "name": "stderr",
     "output_type": "stream",
     "text": [
      "100%|██████████| 5/5 [00:00<00:00, 50.59it/s]\n"
     ]
    },
    {
     "name": "stdout",
     "output_type": "stream",
     "text": [
      "No. 551 T_rec: 2.76 T_kld: 0.00 V_rec: 3.56 V_kld: 0.00\n",
      "No. 552 T_rec: 2.77 T_kld: 0.00 V_rec: 3.56 V_kld: 0.00\n",
      "No. 553 T_rec: 2.74 T_kld: 0.00 V_rec: 3.55 V_kld: 0.00\n",
      "No. 554 T_rec: 2.78 T_kld: 0.00 V_rec: 3.55 V_kld: 0.00\n",
      "No. 555 T_rec: 2.73 T_kld: 0.00 V_rec: 3.55 V_kld: 0.00\n",
      "No. 556 T_rec: 2.77 T_kld: 0.00 V_rec: 3.55 V_kld: 0.00\n",
      "No. 557 T_rec: 2.78 T_kld: 0.00 V_rec: 3.55 V_kld: 0.00\n",
      "No. 558 T_rec: 2.75 T_kld: 0.00 V_rec: 3.54 V_kld: 0.00\n",
      "No. 559 T_rec: 2.74 T_kld: 0.00 V_rec: 3.54 V_kld: 0.00\n",
      "No. 560 T_rec: 2.76 T_kld: 0.00 V_rec: 3.54 V_kld: 0.00\n",
      "save model 560...\n"
     ]
    },
    {
     "name": "stderr",
     "output_type": "stream",
     "text": [
      "100%|██████████| 5/5 [00:00<00:00, 54.91it/s]\n"
     ]
    },
    {
     "name": "stdout",
     "output_type": "stream",
     "text": [
      "No. 561 T_rec: 2.75 T_kld: 0.00 V_rec: 3.53 V_kld: 0.00\n",
      "No. 562 T_rec: 2.76 T_kld: 0.00 V_rec: 3.53 V_kld: 0.00\n",
      "No. 563 T_rec: 2.75 T_kld: 0.00 V_rec: 3.53 V_kld: 0.00\n",
      "No. 564 T_rec: 2.74 T_kld: 0.00 V_rec: 3.53 V_kld: 0.00\n",
      "No. 565 T_rec: 2.75 T_kld: 0.00 V_rec: 3.53 V_kld: 0.00\n",
      "No. 566 T_rec: 2.76 T_kld: 0.00 V_rec: 3.52 V_kld: 0.00\n",
      "No. 567 T_rec: 2.75 T_kld: 0.00 V_rec: 3.52 V_kld: 0.00\n",
      "No. 568 T_rec: 2.74 T_kld: 0.00 V_rec: 3.52 V_kld: 0.00\n",
      "No. 569 T_rec: 2.74 T_kld: 0.00 V_rec: 3.52 V_kld: 0.00\n",
      "No. 570 T_rec: 2.77 T_kld: 0.00 V_rec: 3.51 V_kld: 0.00\n",
      "save model 570...\n"
     ]
    },
    {
     "name": "stderr",
     "output_type": "stream",
     "text": [
      "100%|██████████| 5/5 [00:00<00:00, 72.10it/s]\n"
     ]
    },
    {
     "name": "stdout",
     "output_type": "stream",
     "text": [
      "No. 571 T_rec: 2.75 T_kld: 0.00 V_rec: 3.51 V_kld: 0.00\n",
      "No. 572 T_rec: 2.71 T_kld: 0.00 V_rec: 3.51 V_kld: 0.00\n",
      "No. 573 T_rec: 2.71 T_kld: 0.00 V_rec: 3.51 V_kld: 0.00\n",
      "No. 574 T_rec: 2.73 T_kld: 0.00 V_rec: 3.50 V_kld: 0.00\n",
      "No. 575 T_rec: 2.76 T_kld: 0.00 V_rec: 3.50 V_kld: 0.00\n",
      "No. 576 T_rec: 2.72 T_kld: 0.00 V_rec: 3.50 V_kld: 0.00\n",
      "No. 577 T_rec: 2.72 T_kld: 0.00 V_rec: 3.50 V_kld: 0.00\n",
      "No. 578 T_rec: 2.74 T_kld: 0.00 V_rec: 3.49 V_kld: 0.00\n",
      "No. 579 T_rec: 2.75 T_kld: 0.00 V_rec: 3.49 V_kld: 0.00\n",
      "No. 580 T_rec: 2.71 T_kld: 0.00 V_rec: 3.49 V_kld: 0.00\n",
      "save model 580...\n"
     ]
    },
    {
     "name": "stderr",
     "output_type": "stream",
     "text": [
      "100%|██████████| 5/5 [00:00<00:00, 43.94it/s]\n"
     ]
    },
    {
     "name": "stdout",
     "output_type": "stream",
     "text": [
      "No. 581 T_rec: 2.73 T_kld: 0.00 V_rec: 3.49 V_kld: 0.00\n",
      "No. 582 T_rec: 2.73 T_kld: 0.00 V_rec: 3.48 V_kld: 0.00\n",
      "No. 583 T_rec: 2.72 T_kld: 0.00 V_rec: 3.48 V_kld: 0.00\n",
      "No. 584 T_rec: 2.73 T_kld: 0.00 V_rec: 3.48 V_kld: 0.00\n",
      "No. 585 T_rec: 2.71 T_kld: 0.00 V_rec: 3.48 V_kld: 0.00\n",
      "No. 586 T_rec: 2.72 T_kld: 0.00 V_rec: 3.48 V_kld: 0.00\n",
      "No. 587 T_rec: 2.72 T_kld: 0.00 V_rec: 3.47 V_kld: 0.00\n",
      "No. 588 T_rec: 2.73 T_kld: 0.00 V_rec: 3.47 V_kld: 0.00\n",
      "No. 589 T_rec: 2.72 T_kld: 0.00 V_rec: 3.47 V_kld: 0.00\n",
      "No. 590 T_rec: 2.72 T_kld: 0.00 V_rec: 3.47 V_kld: 0.00\n",
      "save model 590...\n"
     ]
    },
    {
     "name": "stderr",
     "output_type": "stream",
     "text": [
      "100%|██████████| 5/5 [00:00<00:00, 46.95it/s]\n"
     ]
    },
    {
     "name": "stdout",
     "output_type": "stream",
     "text": [
      "No. 591 T_rec: 2.72 T_kld: 0.00 V_rec: 3.46 V_kld: 0.00\n",
      "No. 592 T_rec: 2.71 T_kld: 0.00 V_rec: 3.46 V_kld: 0.00\n",
      "No. 593 T_rec: 2.71 T_kld: 0.00 V_rec: 3.46 V_kld: 0.00\n",
      "No. 594 T_rec: 2.72 T_kld: 0.00 V_rec: 3.46 V_kld: 0.00\n",
      "No. 595 T_rec: 2.71 T_kld: 0.00 V_rec: 3.45 V_kld: 0.00\n",
      "No. 596 T_rec: 2.68 T_kld: 0.00 V_rec: 3.45 V_kld: 0.00\n",
      "No. 597 T_rec: 2.69 T_kld: 0.00 V_rec: 3.45 V_kld: 0.00\n",
      "No. 598 T_rec: 2.72 T_kld: 0.00 V_rec: 3.45 V_kld: 0.00\n",
      "No. 599 T_rec: 2.71 T_kld: 0.00 V_rec: 3.45 V_kld: 0.00\n",
      "No. 600 T_rec: 2.70 T_kld: 0.00 V_rec: 3.44 V_kld: 0.00\n",
      "save model 600...\n"
     ]
    },
    {
     "name": "stderr",
     "output_type": "stream",
     "text": [
      "100%|██████████| 5/5 [00:00<00:00, 53.44it/s]\n"
     ]
    },
    {
     "name": "stdout",
     "output_type": "stream",
     "text": [
      "No. 601 T_rec: 2.70 T_kld: 0.00 V_rec: 3.44 V_kld: 0.00\n",
      "No. 602 T_rec: 2.71 T_kld: 0.00 V_rec: 3.44 V_kld: 0.00\n",
      "No. 603 T_rec: 2.73 T_kld: 0.00 V_rec: 3.43 V_kld: 0.00\n",
      "No. 604 T_rec: 2.70 T_kld: 0.00 V_rec: 3.43 V_kld: 0.00\n",
      "No. 605 T_rec: 2.69 T_kld: 0.00 V_rec: 3.43 V_kld: 0.00\n",
      "No. 606 T_rec: 2.72 T_kld: 0.00 V_rec: 3.43 V_kld: 0.00\n",
      "No. 607 T_rec: 2.71 T_kld: 0.00 V_rec: 3.43 V_kld: 0.00\n",
      "No. 608 T_rec: 2.72 T_kld: 0.00 V_rec: 3.42 V_kld: 0.00\n",
      "No. 609 T_rec: 2.67 T_kld: 0.00 V_rec: 3.42 V_kld: 0.00\n",
      "No. 610 T_rec: 2.71 T_kld: 0.00 V_rec: 3.42 V_kld: 0.00\n",
      "save model 610...\n"
     ]
    },
    {
     "name": "stderr",
     "output_type": "stream",
     "text": [
      "100%|██████████| 5/5 [00:00<00:00, 54.71it/s]\n"
     ]
    },
    {
     "name": "stdout",
     "output_type": "stream",
     "text": [
      "No. 611 T_rec: 2.70 T_kld: 0.00 V_rec: 3.42 V_kld: 0.00\n",
      "No. 612 T_rec: 2.70 T_kld: 0.00 V_rec: 3.42 V_kld: 0.00\n",
      "No. 613 T_rec: 2.70 T_kld: 0.00 V_rec: 3.41 V_kld: 0.00\n",
      "No. 614 T_rec: 2.70 T_kld: 0.00 V_rec: 3.41 V_kld: 0.00\n",
      "No. 615 T_rec: 2.69 T_kld: 0.00 V_rec: 3.41 V_kld: 0.00\n",
      "No. 616 T_rec: 2.69 T_kld: 0.00 V_rec: 3.41 V_kld: 0.00\n",
      "No. 617 T_rec: 2.67 T_kld: 0.00 V_rec: 3.40 V_kld: 0.00\n",
      "No. 618 T_rec: 2.69 T_kld: 0.00 V_rec: 3.40 V_kld: 0.00\n",
      "No. 619 T_rec: 2.68 T_kld: 0.00 V_rec: 3.40 V_kld: 0.00\n",
      "No. 620 T_rec: 2.71 T_kld: 0.00 V_rec: 3.40 V_kld: 0.00\n",
      "save model 620...\n"
     ]
    },
    {
     "name": "stderr",
     "output_type": "stream",
     "text": [
      "100%|██████████| 5/5 [00:00<00:00, 65.92it/s]\n"
     ]
    },
    {
     "name": "stdout",
     "output_type": "stream",
     "text": [
      "No. 621 T_rec: 2.70 T_kld: 0.00 V_rec: 3.39 V_kld: 0.00\n",
      "No. 622 T_rec: 2.69 T_kld: 0.00 V_rec: 3.39 V_kld: 0.00\n",
      "No. 623 T_rec: 2.68 T_kld: 0.00 V_rec: 3.39 V_kld: 0.00\n",
      "No. 624 T_rec: 2.68 T_kld: 0.00 V_rec: 3.39 V_kld: 0.00\n",
      "No. 625 T_rec: 2.69 T_kld: 0.00 V_rec: 3.38 V_kld: 0.00\n",
      "No. 626 T_rec: 2.68 T_kld: 0.00 V_rec: 3.38 V_kld: 0.00\n",
      "No. 627 T_rec: 2.66 T_kld: 0.00 V_rec: 3.38 V_kld: 0.00\n",
      "No. 628 T_rec: 2.67 T_kld: 0.00 V_rec: 3.38 V_kld: 0.00\n",
      "No. 629 T_rec: 2.67 T_kld: 0.00 V_rec: 3.38 V_kld: 0.00\n",
      "No. 630 T_rec: 2.67 T_kld: 0.00 V_rec: 3.37 V_kld: 0.00\n",
      "save model 630...\n"
     ]
    },
    {
     "name": "stderr",
     "output_type": "stream",
     "text": [
      "100%|██████████| 5/5 [00:00<00:00, 51.74it/s]\n"
     ]
    },
    {
     "name": "stdout",
     "output_type": "stream",
     "text": [
      "No. 631 T_rec: 2.68 T_kld: 0.00 V_rec: 3.37 V_kld: 0.00\n",
      "No. 632 T_rec: 2.66 T_kld: 0.00 V_rec: 3.37 V_kld: 0.00\n",
      "No. 633 T_rec: 2.65 T_kld: 0.00 V_rec: 3.37 V_kld: 0.00\n",
      "No. 634 T_rec: 2.66 T_kld: 0.00 V_rec: 3.36 V_kld: 0.00\n",
      "No. 635 T_rec: 2.67 T_kld: 0.00 V_rec: 3.36 V_kld: 0.00\n",
      "No. 636 T_rec: 2.67 T_kld: 0.00 V_rec: 3.36 V_kld: 0.00\n",
      "No. 637 T_rec: 2.68 T_kld: 0.00 V_rec: 3.36 V_kld: 0.00\n",
      "No. 638 T_rec: 2.65 T_kld: 0.00 V_rec: 3.36 V_kld: 0.00\n",
      "No. 639 T_rec: 2.67 T_kld: 0.00 V_rec: 3.35 V_kld: 0.00\n",
      "No. 640 T_rec: 2.67 T_kld: 0.00 V_rec: 3.35 V_kld: 0.00\n",
      "save model 640...\n"
     ]
    },
    {
     "name": "stderr",
     "output_type": "stream",
     "text": [
      "100%|██████████| 5/5 [00:00<00:00, 58.85it/s]\n"
     ]
    },
    {
     "name": "stdout",
     "output_type": "stream",
     "text": [
      "No. 641 T_rec: 2.65 T_kld: 0.00 V_rec: 3.35 V_kld: 0.00\n",
      "No. 642 T_rec: 2.67 T_kld: 0.00 V_rec: 3.35 V_kld: 0.00\n",
      "No. 643 T_rec: 2.68 T_kld: 0.00 V_rec: 3.34 V_kld: 0.00\n",
      "No. 644 T_rec: 2.66 T_kld: 0.00 V_rec: 3.34 V_kld: 0.00\n",
      "No. 645 T_rec: 2.65 T_kld: 0.00 V_rec: 3.34 V_kld: 0.00\n",
      "No. 646 T_rec: 2.65 T_kld: 0.00 V_rec: 3.34 V_kld: 0.00\n",
      "No. 647 T_rec: 2.67 T_kld: 0.00 V_rec: 3.34 V_kld: 0.00\n",
      "No. 648 T_rec: 2.65 T_kld: 0.00 V_rec: 3.33 V_kld: 0.00\n",
      "No. 649 T_rec: 2.64 T_kld: 0.00 V_rec: 3.33 V_kld: 0.00\n",
      "No. 650 T_rec: 2.66 T_kld: 0.00 V_rec: 3.33 V_kld: 0.00\n",
      "save model 650...\n"
     ]
    },
    {
     "name": "stderr",
     "output_type": "stream",
     "text": [
      "100%|██████████| 5/5 [00:00<00:00, 53.36it/s]\n"
     ]
    },
    {
     "name": "stdout",
     "output_type": "stream",
     "text": [
      "No. 651 T_rec: 2.67 T_kld: 0.00 V_rec: 3.33 V_kld: 0.00\n",
      "No. 652 T_rec: 2.64 T_kld: 0.00 V_rec: 3.33 V_kld: 0.00\n",
      "No. 653 T_rec: 2.67 T_kld: 0.00 V_rec: 3.32 V_kld: 0.00\n",
      "No. 654 T_rec: 2.67 T_kld: 0.00 V_rec: 3.32 V_kld: 0.00\n",
      "No. 655 T_rec: 2.66 T_kld: 0.00 V_rec: 3.32 V_kld: 0.00\n",
      "No. 656 T_rec: 2.67 T_kld: 0.00 V_rec: 3.32 V_kld: 0.00\n",
      "No. 657 T_rec: 2.66 T_kld: 0.00 V_rec: 3.31 V_kld: 0.00\n",
      "No. 658 T_rec: 2.64 T_kld: 0.00 V_rec: 3.31 V_kld: 0.00\n",
      "No. 659 T_rec: 2.65 T_kld: 0.00 V_rec: 3.31 V_kld: 0.00\n",
      "No. 660 T_rec: 2.64 T_kld: 0.00 V_rec: 3.31 V_kld: 0.00\n",
      "save model 660...\n"
     ]
    },
    {
     "name": "stderr",
     "output_type": "stream",
     "text": [
      "100%|██████████| 5/5 [00:00<00:00, 47.49it/s]\n"
     ]
    },
    {
     "name": "stdout",
     "output_type": "stream",
     "text": [
      "No. 661 T_rec: 2.63 T_kld: 0.00 V_rec: 3.31 V_kld: 0.00\n",
      "No. 662 T_rec: 2.65 T_kld: 0.00 V_rec: 3.30 V_kld: 0.00\n",
      "No. 663 T_rec: 2.66 T_kld: 0.00 V_rec: 3.30 V_kld: 0.00\n",
      "No. 664 T_rec: 2.63 T_kld: 0.00 V_rec: 3.30 V_kld: 0.00\n",
      "No. 665 T_rec: 2.66 T_kld: 0.00 V_rec: 3.30 V_kld: 0.00\n",
      "No. 666 T_rec: 2.61 T_kld: 0.00 V_rec: 3.29 V_kld: 0.00\n",
      "No. 667 T_rec: 2.65 T_kld: 0.00 V_rec: 3.29 V_kld: 0.00\n",
      "No. 668 T_rec: 2.62 T_kld: 0.00 V_rec: 3.29 V_kld: 0.00\n",
      "No. 669 T_rec: 2.63 T_kld: 0.00 V_rec: 3.29 V_kld: 0.00\n",
      "No. 670 T_rec: 2.64 T_kld: 0.00 V_rec: 3.29 V_kld: 0.00\n",
      "save model 670...\n"
     ]
    },
    {
     "name": "stderr",
     "output_type": "stream",
     "text": [
      "100%|██████████| 5/5 [00:00<00:00, 62.11it/s]\n"
     ]
    },
    {
     "name": "stdout",
     "output_type": "stream",
     "text": [
      "No. 671 T_rec: 2.65 T_kld: 0.00 V_rec: 3.28 V_kld: 0.00\n",
      "No. 672 T_rec: 2.64 T_kld: 0.00 V_rec: 3.28 V_kld: 0.00\n",
      "No. 673 T_rec: 2.62 T_kld: 0.00 V_rec: 3.28 V_kld: 0.00\n",
      "No. 674 T_rec: 2.62 T_kld: 0.00 V_rec: 3.28 V_kld: 0.00\n",
      "No. 675 T_rec: 2.65 T_kld: 0.00 V_rec: 3.28 V_kld: 0.00\n",
      "No. 676 T_rec: 2.65 T_kld: 0.00 V_rec: 3.27 V_kld: 0.00\n",
      "No. 677 T_rec: 2.64 T_kld: 0.00 V_rec: 3.27 V_kld: 0.00\n",
      "No. 678 T_rec: 2.62 T_kld: 0.00 V_rec: 3.27 V_kld: 0.00\n",
      "No. 679 T_rec: 2.63 T_kld: 0.00 V_rec: 3.27 V_kld: 0.00\n",
      "No. 680 T_rec: 2.63 T_kld: 0.00 V_rec: 3.27 V_kld: 0.00\n",
      "save model 680...\n"
     ]
    },
    {
     "name": "stderr",
     "output_type": "stream",
     "text": [
      "100%|██████████| 5/5 [00:00<00:00, 46.55it/s]\n"
     ]
    },
    {
     "name": "stdout",
     "output_type": "stream",
     "text": [
      "No. 681 T_rec: 2.61 T_kld: 0.00 V_rec: 3.26 V_kld: 0.00\n",
      "No. 682 T_rec: 2.62 T_kld: 0.00 V_rec: 3.26 V_kld: 0.00\n",
      "No. 683 T_rec: 2.62 T_kld: 0.00 V_rec: 3.26 V_kld: 0.00\n",
      "No. 684 T_rec: 2.63 T_kld: 0.00 V_rec: 3.26 V_kld: 0.00\n",
      "No. 685 T_rec: 2.61 T_kld: 0.00 V_rec: 3.25 V_kld: 0.00\n",
      "No. 686 T_rec: 2.59 T_kld: 0.00 V_rec: 3.25 V_kld: 0.00\n",
      "No. 687 T_rec: 2.61 T_kld: 0.00 V_rec: 3.25 V_kld: 0.00\n",
      "No. 688 T_rec: 2.61 T_kld: 0.00 V_rec: 3.25 V_kld: 0.00\n",
      "No. 689 T_rec: 2.64 T_kld: 0.00 V_rec: 3.25 V_kld: 0.00\n",
      "No. 690 T_rec: 2.58 T_kld: 0.00 V_rec: 3.24 V_kld: 0.00\n",
      "save model 690...\n"
     ]
    },
    {
     "name": "stderr",
     "output_type": "stream",
     "text": [
      "100%|██████████| 5/5 [00:00<00:00, 75.99it/s]\n"
     ]
    },
    {
     "name": "stdout",
     "output_type": "stream",
     "text": [
      "No. 691 T_rec: 2.60 T_kld: 0.00 V_rec: 3.24 V_kld: 0.00\n",
      "No. 692 T_rec: 2.61 T_kld: 0.00 V_rec: 3.24 V_kld: 0.00\n",
      "No. 693 T_rec: 2.63 T_kld: 0.00 V_rec: 3.24 V_kld: 0.00\n",
      "No. 694 T_rec: 2.61 T_kld: 0.00 V_rec: 3.24 V_kld: 0.00\n",
      "No. 695 T_rec: 2.61 T_kld: 0.00 V_rec: 3.23 V_kld: 0.00\n",
      "No. 696 T_rec: 2.62 T_kld: 0.00 V_rec: 3.23 V_kld: 0.00\n",
      "No. 697 T_rec: 2.63 T_kld: 0.00 V_rec: 3.23 V_kld: 0.00\n",
      "No. 698 T_rec: 2.63 T_kld: 0.00 V_rec: 3.23 V_kld: 0.00\n",
      "No. 699 T_rec: 2.61 T_kld: 0.00 V_rec: 3.22 V_kld: 0.00\n",
      "No. 700 T_rec: 2.61 T_kld: 0.00 V_rec: 3.22 V_kld: 0.00\n",
      "save model 700...\n"
     ]
    },
    {
     "name": "stderr",
     "output_type": "stream",
     "text": [
      "100%|██████████| 5/5 [00:00<00:00, 59.76it/s]\n"
     ]
    },
    {
     "name": "stdout",
     "output_type": "stream",
     "text": [
      "No. 701 T_rec: 2.60 T_kld: 0.00 V_rec: 3.22 V_kld: 0.00\n",
      "No. 702 T_rec: 2.62 T_kld: 0.00 V_rec: 3.22 V_kld: 0.00\n",
      "No. 703 T_rec: 2.61 T_kld: 0.00 V_rec: 3.22 V_kld: 0.00\n",
      "No. 704 T_rec: 2.60 T_kld: 0.00 V_rec: 3.22 V_kld: 0.00\n",
      "No. 705 T_rec: 2.58 T_kld: 0.00 V_rec: 3.21 V_kld: 0.00\n",
      "No. 706 T_rec: 2.61 T_kld: 0.00 V_rec: 3.21 V_kld: 0.00\n",
      "No. 707 T_rec: 2.61 T_kld: 0.00 V_rec: 3.21 V_kld: 0.00\n",
      "No. 708 T_rec: 2.58 T_kld: 0.00 V_rec: 3.21 V_kld: 0.00\n",
      "No. 709 T_rec: 2.61 T_kld: 0.00 V_rec: 3.20 V_kld: 0.00\n",
      "No. 710 T_rec: 2.58 T_kld: 0.00 V_rec: 3.20 V_kld: 0.00\n",
      "save model 710...\n"
     ]
    },
    {
     "name": "stderr",
     "output_type": "stream",
     "text": [
      "100%|██████████| 5/5 [00:00<00:00, 46.51it/s]\n"
     ]
    },
    {
     "name": "stdout",
     "output_type": "stream",
     "text": [
      "No. 711 T_rec: 2.58 T_kld: 0.00 V_rec: 3.20 V_kld: 0.00\n",
      "No. 712 T_rec: 2.59 T_kld: 0.00 V_rec: 3.20 V_kld: 0.00\n",
      "No. 713 T_rec: 2.60 T_kld: 0.00 V_rec: 3.20 V_kld: 0.00\n",
      "No. 714 T_rec: 2.57 T_kld: 0.00 V_rec: 3.19 V_kld: 0.00\n",
      "No. 715 T_rec: 2.59 T_kld: 0.00 V_rec: 3.19 V_kld: 0.00\n",
      "No. 716 T_rec: 2.58 T_kld: 0.00 V_rec: 3.19 V_kld: 0.00\n",
      "No. 717 T_rec: 2.58 T_kld: 0.00 V_rec: 3.19 V_kld: 0.00\n",
      "No. 718 T_rec: 2.60 T_kld: 0.00 V_rec: 3.19 V_kld: 0.00\n",
      "No. 719 T_rec: 2.58 T_kld: 0.00 V_rec: 3.18 V_kld: 0.00\n",
      "No. 720 T_rec: 2.56 T_kld: 0.00 V_rec: 3.18 V_kld: 0.00\n",
      "save model 720...\n"
     ]
    },
    {
     "name": "stderr",
     "output_type": "stream",
     "text": [
      "100%|██████████| 5/5 [00:00<00:00, 45.60it/s]\n"
     ]
    },
    {
     "name": "stdout",
     "output_type": "stream",
     "text": [
      "No. 721 T_rec: 2.57 T_kld: 0.00 V_rec: 3.18 V_kld: 0.00\n",
      "No. 722 T_rec: 2.58 T_kld: 0.00 V_rec: 3.18 V_kld: 0.00\n",
      "No. 723 T_rec: 2.57 T_kld: 0.00 V_rec: 3.18 V_kld: 0.00\n",
      "No. 724 T_rec: 2.56 T_kld: 0.00 V_rec: 3.17 V_kld: 0.00\n",
      "No. 725 T_rec: 2.56 T_kld: 0.00 V_rec: 3.17 V_kld: 0.00\n",
      "No. 726 T_rec: 2.58 T_kld: 0.00 V_rec: 3.17 V_kld: 0.00\n",
      "No. 727 T_rec: 2.58 T_kld: 0.00 V_rec: 3.17 V_kld: 0.00\n",
      "No. 728 T_rec: 2.58 T_kld: 0.00 V_rec: 3.17 V_kld: 0.00\n",
      "No. 729 T_rec: 2.56 T_kld: 0.00 V_rec: 3.16 V_kld: 0.00\n",
      "No. 730 T_rec: 2.56 T_kld: 0.00 V_rec: 3.16 V_kld: 0.00\n",
      "save model 730...\n"
     ]
    },
    {
     "name": "stderr",
     "output_type": "stream",
     "text": [
      "100%|██████████| 5/5 [00:00<00:00, 40.26it/s]\n"
     ]
    },
    {
     "name": "stdout",
     "output_type": "stream",
     "text": [
      "No. 731 T_rec: 2.57 T_kld: 0.00 V_rec: 3.16 V_kld: 0.00\n",
      "No. 732 T_rec: 2.57 T_kld: 0.00 V_rec: 3.16 V_kld: 0.00\n",
      "No. 733 T_rec: 2.56 T_kld: 0.00 V_rec: 3.16 V_kld: 0.00\n",
      "No. 734 T_rec: 2.55 T_kld: 0.00 V_rec: 3.15 V_kld: 0.00\n",
      "No. 735 T_rec: 2.56 T_kld: 0.00 V_rec: 3.15 V_kld: 0.00\n",
      "No. 736 T_rec: 2.56 T_kld: 0.00 V_rec: 3.15 V_kld: 0.00\n",
      "No. 737 T_rec: 2.58 T_kld: 0.00 V_rec: 3.15 V_kld: 0.00\n",
      "No. 738 T_rec: 2.56 T_kld: 0.00 V_rec: 3.15 V_kld: 0.00\n",
      "No. 739 T_rec: 2.57 T_kld: 0.00 V_rec: 3.14 V_kld: 0.00\n",
      "No. 740 T_rec: 2.59 T_kld: 0.00 V_rec: 3.14 V_kld: 0.00\n",
      "save model 740...\n"
     ]
    },
    {
     "name": "stderr",
     "output_type": "stream",
     "text": [
      "100%|██████████| 5/5 [00:00<00:00, 48.20it/s]\n"
     ]
    },
    {
     "name": "stdout",
     "output_type": "stream",
     "text": [
      "No. 741 T_rec: 2.58 T_kld: 0.00 V_rec: 3.14 V_kld: 0.00\n",
      "No. 742 T_rec: 2.55 T_kld: 0.00 V_rec: 3.14 V_kld: 0.00\n",
      "No. 743 T_rec: 2.55 T_kld: 0.00 V_rec: 3.14 V_kld: 0.00\n",
      "No. 744 T_rec: 2.57 T_kld: 0.00 V_rec: 3.13 V_kld: 0.00\n",
      "No. 745 T_rec: 2.54 T_kld: 0.00 V_rec: 3.13 V_kld: 0.00\n",
      "No. 746 T_rec: 2.57 T_kld: 0.00 V_rec: 3.13 V_kld: 0.00\n",
      "No. 747 T_rec: 2.56 T_kld: 0.00 V_rec: 3.13 V_kld: 0.00\n",
      "No. 748 T_rec: 2.58 T_kld: 0.00 V_rec: 3.13 V_kld: 0.00\n",
      "No. 749 T_rec: 2.55 T_kld: 0.00 V_rec: 3.13 V_kld: 0.00\n",
      "No. 750 T_rec: 2.55 T_kld: 0.00 V_rec: 3.12 V_kld: 0.00\n",
      "save model 750...\n"
     ]
    },
    {
     "name": "stderr",
     "output_type": "stream",
     "text": [
      "100%|██████████| 5/5 [00:00<00:00, 52.50it/s]\n"
     ]
    },
    {
     "name": "stdout",
     "output_type": "stream",
     "text": [
      "No. 751 T_rec: 2.55 T_kld: 0.00 V_rec: 3.12 V_kld: 0.00\n",
      "No. 752 T_rec: 2.54 T_kld: 0.00 V_rec: 3.12 V_kld: 0.00\n",
      "No. 753 T_rec: 2.55 T_kld: 0.00 V_rec: 3.12 V_kld: 0.00\n",
      "No. 754 T_rec: 2.56 T_kld: 0.00 V_rec: 3.12 V_kld: 0.00\n",
      "No. 755 T_rec: 2.55 T_kld: 0.00 V_rec: 3.11 V_kld: 0.00\n",
      "No. 756 T_rec: 2.54 T_kld: 0.00 V_rec: 3.11 V_kld: 0.00\n",
      "No. 757 T_rec: 2.57 T_kld: 0.00 V_rec: 3.11 V_kld: 0.00\n",
      "No. 758 T_rec: 2.54 T_kld: 0.00 V_rec: 3.11 V_kld: 0.00\n",
      "No. 759 T_rec: 2.55 T_kld: 0.00 V_rec: 3.10 V_kld: 0.00\n",
      "No. 760 T_rec: 2.56 T_kld: 0.00 V_rec: 3.10 V_kld: 0.00\n",
      "save model 760...\n"
     ]
    },
    {
     "name": "stderr",
     "output_type": "stream",
     "text": [
      "100%|██████████| 5/5 [00:00<00:00, 60.90it/s]\n"
     ]
    },
    {
     "name": "stdout",
     "output_type": "stream",
     "text": [
      "No. 761 T_rec: 2.55 T_kld: 0.00 V_rec: 3.10 V_kld: 0.00\n",
      "No. 762 T_rec: 2.53 T_kld: 0.00 V_rec: 3.10 V_kld: 0.00\n",
      "No. 763 T_rec: 2.57 T_kld: 0.00 V_rec: 3.10 V_kld: 0.00\n",
      "No. 764 T_rec: 2.53 T_kld: 0.00 V_rec: 3.09 V_kld: 0.00\n",
      "No. 765 T_rec: 2.52 T_kld: 0.00 V_rec: 3.09 V_kld: 0.00\n",
      "No. 766 T_rec: 2.53 T_kld: 0.00 V_rec: 3.09 V_kld: 0.00\n",
      "No. 767 T_rec: 2.54 T_kld: 0.00 V_rec: 3.09 V_kld: 0.00\n",
      "No. 768 T_rec: 2.52 T_kld: 0.00 V_rec: 3.09 V_kld: 0.00\n",
      "No. 769 T_rec: 2.55 T_kld: 0.00 V_rec: 3.08 V_kld: 0.00\n",
      "No. 770 T_rec: 2.53 T_kld: 0.00 V_rec: 3.08 V_kld: 0.00\n",
      "save model 770...\n"
     ]
    },
    {
     "name": "stderr",
     "output_type": "stream",
     "text": [
      "100%|██████████| 5/5 [00:00<00:00, 41.14it/s]\n"
     ]
    },
    {
     "name": "stdout",
     "output_type": "stream",
     "text": [
      "No. 771 T_rec: 2.53 T_kld: 0.00 V_rec: 3.08 V_kld: 0.00\n",
      "No. 772 T_rec: 2.53 T_kld: 0.00 V_rec: 3.08 V_kld: 0.00\n",
      "No. 773 T_rec: 2.54 T_kld: 0.00 V_rec: 3.08 V_kld: 0.00\n",
      "No. 774 T_rec: 2.56 T_kld: 0.00 V_rec: 3.07 V_kld: 0.00\n",
      "No. 775 T_rec: 2.51 T_kld: 0.00 V_rec: 3.07 V_kld: 0.00\n",
      "No. 776 T_rec: 2.51 T_kld: 0.00 V_rec: 3.07 V_kld: 0.00\n",
      "No. 777 T_rec: 2.51 T_kld: 0.00 V_rec: 3.07 V_kld: 0.00\n",
      "No. 778 T_rec: 2.55 T_kld: 0.00 V_rec: 3.07 V_kld: 0.00\n",
      "No. 779 T_rec: 2.54 T_kld: 0.00 V_rec: 3.07 V_kld: 0.00\n",
      "No. 780 T_rec: 2.54 T_kld: 0.00 V_rec: 3.06 V_kld: 0.00\n",
      "save model 780...\n"
     ]
    },
    {
     "name": "stderr",
     "output_type": "stream",
     "text": [
      "100%|██████████| 5/5 [00:00<00:00, 44.20it/s]\n"
     ]
    },
    {
     "name": "stdout",
     "output_type": "stream",
     "text": [
      "No. 781 T_rec: 2.51 T_kld: 0.00 V_rec: 3.06 V_kld: 0.00\n",
      "No. 782 T_rec: 2.52 T_kld: 0.00 V_rec: 3.06 V_kld: 0.00\n",
      "No. 783 T_rec: 2.52 T_kld: 0.00 V_rec: 3.06 V_kld: 0.00\n",
      "No. 784 T_rec: 2.54 T_kld: 0.00 V_rec: 3.05 V_kld: 0.00\n",
      "No. 785 T_rec: 2.52 T_kld: 0.00 V_rec: 3.05 V_kld: 0.00\n",
      "No. 786 T_rec: 2.51 T_kld: 0.00 V_rec: 3.05 V_kld: 0.00\n",
      "No. 787 T_rec: 2.52 T_kld: 0.00 V_rec: 3.05 V_kld: 0.00\n",
      "No. 788 T_rec: 2.51 T_kld: 0.00 V_rec: 3.05 V_kld: 0.00\n",
      "No. 789 T_rec: 2.51 T_kld: 0.00 V_rec: 3.05 V_kld: 0.00\n",
      "No. 790 T_rec: 2.53 T_kld: 0.00 V_rec: 3.04 V_kld: 0.00\n",
      "save model 790...\n"
     ]
    },
    {
     "name": "stderr",
     "output_type": "stream",
     "text": [
      "100%|██████████| 5/5 [00:00<00:00, 48.98it/s]\n"
     ]
    },
    {
     "name": "stdout",
     "output_type": "stream",
     "text": [
      "No. 791 T_rec: 2.54 T_kld: 0.00 V_rec: 3.04 V_kld: 0.00\n",
      "No. 792 T_rec: 2.52 T_kld: 0.00 V_rec: 3.04 V_kld: 0.00\n",
      "No. 793 T_rec: 2.50 T_kld: 0.00 V_rec: 3.04 V_kld: 0.00\n",
      "No. 794 T_rec: 2.52 T_kld: 0.00 V_rec: 3.04 V_kld: 0.00\n",
      "No. 795 T_rec: 2.52 T_kld: 0.00 V_rec: 3.04 V_kld: 0.00\n",
      "No. 796 T_rec: 2.51 T_kld: 0.00 V_rec: 3.03 V_kld: 0.00\n",
      "No. 797 T_rec: 2.52 T_kld: 0.00 V_rec: 3.03 V_kld: 0.00\n",
      "No. 798 T_rec: 2.50 T_kld: 0.00 V_rec: 3.03 V_kld: 0.00\n",
      "No. 799 T_rec: 2.51 T_kld: 0.00 V_rec: 3.03 V_kld: 0.00\n",
      "No. 800 T_rec: 2.50 T_kld: 0.00 V_rec: 3.02 V_kld: 0.00\n",
      "save model 800...\n"
     ]
    },
    {
     "name": "stderr",
     "output_type": "stream",
     "text": [
      "100%|██████████| 5/5 [00:00<00:00, 52.83it/s]\n"
     ]
    },
    {
     "name": "stdout",
     "output_type": "stream",
     "text": [
      "No. 801 T_rec: 2.53 T_kld: 0.00 V_rec: 3.02 V_kld: 0.00\n",
      "No. 802 T_rec: 2.52 T_kld: 0.00 V_rec: 3.02 V_kld: 0.00\n",
      "No. 803 T_rec: 2.53 T_kld: 0.00 V_rec: 3.02 V_kld: 0.00\n",
      "No. 804 T_rec: 2.52 T_kld: 0.00 V_rec: 3.02 V_kld: 0.00\n",
      "No. 805 T_rec: 2.50 T_kld: 0.00 V_rec: 3.02 V_kld: 0.00\n",
      "No. 806 T_rec: 2.50 T_kld: 0.00 V_rec: 3.01 V_kld: 0.00\n",
      "No. 807 T_rec: 2.50 T_kld: 0.00 V_rec: 3.01 V_kld: 0.00\n",
      "No. 808 T_rec: 2.50 T_kld: 0.00 V_rec: 3.01 V_kld: 0.00\n",
      "No. 809 T_rec: 2.49 T_kld: 0.00 V_rec: 3.01 V_kld: 0.00\n",
      "No. 810 T_rec: 2.51 T_kld: 0.00 V_rec: 3.01 V_kld: 0.00\n",
      "save model 810...\n"
     ]
    },
    {
     "name": "stderr",
     "output_type": "stream",
     "text": [
      "100%|██████████| 5/5 [00:00<00:00, 59.75it/s]\n"
     ]
    },
    {
     "name": "stdout",
     "output_type": "stream",
     "text": [
      "No. 811 T_rec: 2.50 T_kld: 0.00 V_rec: 3.01 V_kld: 0.00\n",
      "No. 812 T_rec: 2.50 T_kld: 0.00 V_rec: 3.00 V_kld: 0.00\n",
      "No. 813 T_rec: 2.52 T_kld: 0.00 V_rec: 3.00 V_kld: 0.00\n",
      "No. 814 T_rec: 2.48 T_kld: 0.00 V_rec: 3.00 V_kld: 0.00\n",
      "No. 815 T_rec: 2.50 T_kld: 0.00 V_rec: 3.00 V_kld: 0.00\n",
      "No. 816 T_rec: 2.49 T_kld: 0.00 V_rec: 3.00 V_kld: 0.00\n",
      "No. 817 T_rec: 2.50 T_kld: 0.00 V_rec: 2.99 V_kld: 0.00\n",
      "No. 818 T_rec: 2.48 T_kld: 0.00 V_rec: 2.99 V_kld: 0.00\n",
      "No. 819 T_rec: 2.48 T_kld: 0.00 V_rec: 2.99 V_kld: 0.00\n",
      "No. 820 T_rec: 2.52 T_kld: 0.00 V_rec: 2.99 V_kld: 0.00\n",
      "save model 820...\n"
     ]
    },
    {
     "name": "stderr",
     "output_type": "stream",
     "text": [
      "100%|██████████| 5/5 [00:00<00:00, 43.26it/s]\n"
     ]
    },
    {
     "name": "stdout",
     "output_type": "stream",
     "text": [
      "No. 821 T_rec: 2.49 T_kld: 0.00 V_rec: 2.99 V_kld: 0.00\n",
      "No. 822 T_rec: 2.50 T_kld: 0.00 V_rec: 2.98 V_kld: 0.00\n",
      "No. 823 T_rec: 2.50 T_kld: 0.00 V_rec: 2.98 V_kld: 0.00\n",
      "No. 824 T_rec: 2.48 T_kld: 0.00 V_rec: 2.98 V_kld: 0.00\n",
      "No. 825 T_rec: 2.48 T_kld: 0.00 V_rec: 2.98 V_kld: 0.00\n",
      "No. 826 T_rec: 2.48 T_kld: 0.00 V_rec: 2.98 V_kld: 0.00\n",
      "No. 827 T_rec: 2.49 T_kld: 0.00 V_rec: 2.97 V_kld: 0.00\n",
      "No. 828 T_rec: 2.49 T_kld: 0.00 V_rec: 2.97 V_kld: 0.00\n",
      "No. 829 T_rec: 2.51 T_kld: 0.00 V_rec: 2.97 V_kld: 0.00\n",
      "No. 830 T_rec: 2.50 T_kld: 0.00 V_rec: 2.97 V_kld: 0.00\n",
      "save model 830...\n"
     ]
    },
    {
     "name": "stderr",
     "output_type": "stream",
     "text": [
      "100%|██████████| 5/5 [00:00<00:00, 58.52it/s]\n"
     ]
    },
    {
     "name": "stdout",
     "output_type": "stream",
     "text": [
      "No. 831 T_rec: 2.50 T_kld: 0.00 V_rec: 2.97 V_kld: 0.00\n",
      "No. 832 T_rec: 2.52 T_kld: 0.00 V_rec: 2.97 V_kld: 0.00\n",
      "No. 833 T_rec: 2.48 T_kld: 0.00 V_rec: 2.96 V_kld: 0.00\n",
      "No. 834 T_rec: 2.48 T_kld: 0.00 V_rec: 2.96 V_kld: 0.00\n",
      "No. 835 T_rec: 2.49 T_kld: 0.00 V_rec: 2.96 V_kld: 0.00\n",
      "No. 836 T_rec: 2.49 T_kld: 0.00 V_rec: 2.96 V_kld: 0.00\n",
      "No. 837 T_rec: 2.48 T_kld: 0.00 V_rec: 2.96 V_kld: 0.00\n",
      "No. 838 T_rec: 2.47 T_kld: 0.00 V_rec: 2.95 V_kld: 0.00\n",
      "No. 839 T_rec: 2.46 T_kld: 0.00 V_rec: 2.96 V_kld: 0.00\n",
      "No. 840 T_rec: 2.50 T_kld: 0.00 V_rec: 2.95 V_kld: 0.00\n",
      "save model 840...\n"
     ]
    },
    {
     "name": "stderr",
     "output_type": "stream",
     "text": [
      "100%|██████████| 5/5 [00:00<00:00, 56.54it/s]\n"
     ]
    },
    {
     "name": "stdout",
     "output_type": "stream",
     "text": [
      "No. 841 T_rec: 2.45 T_kld: 0.00 V_rec: 2.95 V_kld: 0.00\n",
      "No. 842 T_rec: 2.47 T_kld: 0.00 V_rec: 2.95 V_kld: 0.00\n",
      "No. 843 T_rec: 2.47 T_kld: 0.00 V_rec: 2.95 V_kld: 0.00\n",
      "No. 844 T_rec: 2.48 T_kld: 0.00 V_rec: 2.94 V_kld: 0.00\n",
      "No. 845 T_rec: 2.45 T_kld: 0.00 V_rec: 2.94 V_kld: 0.00\n",
      "No. 846 T_rec: 2.46 T_kld: 0.00 V_rec: 2.94 V_kld: 0.00\n",
      "No. 847 T_rec: 2.46 T_kld: 0.00 V_rec: 2.94 V_kld: 0.00\n",
      "No. 848 T_rec: 2.43 T_kld: 0.00 V_rec: 2.94 V_kld: 0.00\n",
      "No. 849 T_rec: 2.46 T_kld: 0.00 V_rec: 2.94 V_kld: 0.00\n",
      "No. 850 T_rec: 2.47 T_kld: 0.00 V_rec: 2.93 V_kld: 0.00\n",
      "save model 850...\n"
     ]
    },
    {
     "name": "stderr",
     "output_type": "stream",
     "text": [
      "100%|██████████| 5/5 [00:00<00:00, 53.10it/s]\n"
     ]
    },
    {
     "name": "stdout",
     "output_type": "stream",
     "text": [
      "No. 851 T_rec: 2.45 T_kld: 0.00 V_rec: 2.93 V_kld: 0.00\n",
      "No. 852 T_rec: 2.47 T_kld: 0.00 V_rec: 2.93 V_kld: 0.00\n",
      "No. 853 T_rec: 2.47 T_kld: 0.00 V_rec: 2.93 V_kld: 0.00\n",
      "No. 854 T_rec: 2.47 T_kld: 0.00 V_rec: 2.93 V_kld: 0.00\n",
      "No. 855 T_rec: 2.44 T_kld: 0.00 V_rec: 2.92 V_kld: 0.00\n",
      "No. 856 T_rec: 2.46 T_kld: 0.00 V_rec: 2.92 V_kld: 0.00\n",
      "No. 857 T_rec: 2.44 T_kld: 0.00 V_rec: 2.92 V_kld: 0.00\n",
      "No. 858 T_rec: 2.46 T_kld: 0.00 V_rec: 2.92 V_kld: 0.00\n",
      "No. 859 T_rec: 2.48 T_kld: 0.00 V_rec: 2.92 V_kld: 0.00\n",
      "No. 860 T_rec: 2.48 T_kld: 0.00 V_rec: 2.92 V_kld: 0.00\n",
      "save model 860...\n"
     ]
    },
    {
     "name": "stderr",
     "output_type": "stream",
     "text": [
      "100%|██████████| 5/5 [00:00<00:00, 45.68it/s]\n"
     ]
    },
    {
     "name": "stdout",
     "output_type": "stream",
     "text": [
      "No. 861 T_rec: 2.47 T_kld: 0.00 V_rec: 2.91 V_kld: 0.00\n",
      "No. 862 T_rec: 2.45 T_kld: 0.00 V_rec: 2.91 V_kld: 0.00\n",
      "No. 863 T_rec: 2.45 T_kld: 0.00 V_rec: 2.91 V_kld: 0.00\n",
      "No. 864 T_rec: 2.46 T_kld: 0.00 V_rec: 2.91 V_kld: 0.00\n",
      "No. 865 T_rec: 2.45 T_kld: 0.00 V_rec: 2.91 V_kld: 0.00\n",
      "No. 866 T_rec: 2.45 T_kld: 0.00 V_rec: 2.90 V_kld: 0.00\n",
      "No. 867 T_rec: 2.44 T_kld: 0.00 V_rec: 2.90 V_kld: 0.00\n",
      "No. 868 T_rec: 2.45 T_kld: 0.00 V_rec: 2.90 V_kld: 0.00\n",
      "No. 869 T_rec: 2.44 T_kld: 0.00 V_rec: 2.90 V_kld: 0.00\n",
      "No. 870 T_rec: 2.45 T_kld: 0.00 V_rec: 2.90 V_kld: 0.00\n",
      "save model 870...\n"
     ]
    },
    {
     "name": "stderr",
     "output_type": "stream",
     "text": [
      "100%|██████████| 5/5 [00:00<00:00, 45.41it/s]\n"
     ]
    },
    {
     "name": "stdout",
     "output_type": "stream",
     "text": [
      "No. 871 T_rec: 2.46 T_kld: 0.00 V_rec: 2.90 V_kld: 0.00\n",
      "No. 872 T_rec: 2.44 T_kld: 0.00 V_rec: 2.89 V_kld: 0.00\n",
      "No. 873 T_rec: 2.46 T_kld: 0.00 V_rec: 2.89 V_kld: 0.00\n",
      "No. 874 T_rec: 2.43 T_kld: 0.00 V_rec: 2.89 V_kld: 0.00\n",
      "No. 875 T_rec: 2.43 T_kld: 0.00 V_rec: 2.89 V_kld: 0.00\n",
      "No. 876 T_rec: 2.42 T_kld: 0.00 V_rec: 2.89 V_kld: 0.00\n",
      "No. 877 T_rec: 2.45 T_kld: 0.00 V_rec: 2.89 V_kld: 0.00\n",
      "No. 878 T_rec: 2.45 T_kld: 0.00 V_rec: 2.88 V_kld: 0.00\n",
      "No. 879 T_rec: 2.45 T_kld: 0.00 V_rec: 2.88 V_kld: 0.00\n",
      "No. 880 T_rec: 2.44 T_kld: 0.00 V_rec: 2.88 V_kld: 0.00\n",
      "save model 880...\n"
     ]
    },
    {
     "name": "stderr",
     "output_type": "stream",
     "text": [
      "100%|██████████| 5/5 [00:00<00:00, 67.67it/s]\n"
     ]
    },
    {
     "name": "stdout",
     "output_type": "stream",
     "text": [
      "No. 881 T_rec: 2.43 T_kld: 0.00 V_rec: 2.88 V_kld: 0.00\n",
      "No. 882 T_rec: 2.43 T_kld: 0.00 V_rec: 2.88 V_kld: 0.00\n",
      "No. 883 T_rec: 2.44 T_kld: 0.00 V_rec: 2.88 V_kld: 0.00\n",
      "No. 884 T_rec: 2.42 T_kld: 0.00 V_rec: 2.87 V_kld: 0.00\n",
      "No. 885 T_rec: 2.41 T_kld: 0.00 V_rec: 2.87 V_kld: 0.00\n",
      "No. 886 T_rec: 2.43 T_kld: 0.00 V_rec: 2.87 V_kld: 0.00\n",
      "No. 887 T_rec: 2.40 T_kld: 0.00 V_rec: 2.87 V_kld: 0.00\n",
      "No. 888 T_rec: 2.43 T_kld: 0.00 V_rec: 2.87 V_kld: 0.00\n",
      "No. 889 T_rec: 2.42 T_kld: 0.00 V_rec: 2.86 V_kld: 0.00\n",
      "No. 890 T_rec: 2.42 T_kld: 0.00 V_rec: 2.86 V_kld: 0.00\n",
      "save model 890...\n"
     ]
    },
    {
     "name": "stderr",
     "output_type": "stream",
     "text": [
      "100%|██████████| 5/5 [00:00<00:00, 50.73it/s]\n"
     ]
    },
    {
     "name": "stdout",
     "output_type": "stream",
     "text": [
      "No. 891 T_rec: 2.43 T_kld: 0.00 V_rec: 2.86 V_kld: 0.00\n",
      "No. 892 T_rec: 2.45 T_kld: 0.00 V_rec: 2.86 V_kld: 0.00\n",
      "No. 893 T_rec: 2.42 T_kld: 0.00 V_rec: 2.86 V_kld: 0.00\n",
      "No. 894 T_rec: 2.42 T_kld: 0.00 V_rec: 2.86 V_kld: 0.00\n",
      "No. 895 T_rec: 2.42 T_kld: 0.00 V_rec: 2.85 V_kld: 0.00\n",
      "No. 896 T_rec: 2.43 T_kld: 0.00 V_rec: 2.85 V_kld: 0.00\n",
      "No. 897 T_rec: 2.41 T_kld: 0.00 V_rec: 2.85 V_kld: 0.00\n",
      "No. 898 T_rec: 2.43 T_kld: 0.00 V_rec: 2.85 V_kld: 0.00\n",
      "No. 899 T_rec: 2.41 T_kld: 0.00 V_rec: 2.85 V_kld: 0.00\n",
      "No. 900 T_rec: 2.44 T_kld: 0.00 V_rec: 2.85 V_kld: 0.00\n",
      "save model 900...\n"
     ]
    },
    {
     "name": "stderr",
     "output_type": "stream",
     "text": [
      "100%|██████████| 5/5 [00:00<00:00, 50.20it/s]\n"
     ]
    },
    {
     "name": "stdout",
     "output_type": "stream",
     "text": [
      "No. 901 T_rec: 2.41 T_kld: 0.00 V_rec: 2.84 V_kld: 0.00\n",
      "No. 902 T_rec: 2.40 T_kld: 0.00 V_rec: 2.84 V_kld: 0.00\n",
      "No. 903 T_rec: 2.41 T_kld: 0.00 V_rec: 2.84 V_kld: 0.00\n",
      "No. 904 T_rec: 2.42 T_kld: 0.00 V_rec: 2.84 V_kld: 0.00\n",
      "No. 905 T_rec: 2.41 T_kld: 0.00 V_rec: 2.84 V_kld: 0.00\n",
      "No. 906 T_rec: 2.42 T_kld: 0.00 V_rec: 2.84 V_kld: 0.00\n",
      "No. 907 T_rec: 2.40 T_kld: 0.00 V_rec: 2.83 V_kld: 0.00\n",
      "No. 908 T_rec: 2.42 T_kld: 0.00 V_rec: 2.83 V_kld: 0.00\n",
      "No. 909 T_rec: 2.42 T_kld: 0.00 V_rec: 2.83 V_kld: 0.00\n",
      "No. 910 T_rec: 2.42 T_kld: 0.00 V_rec: 2.83 V_kld: 0.00\n",
      "save model 910...\n"
     ]
    },
    {
     "name": "stderr",
     "output_type": "stream",
     "text": [
      "100%|██████████| 5/5 [00:00<00:00, 47.71it/s]\n"
     ]
    },
    {
     "name": "stdout",
     "output_type": "stream",
     "text": [
      "No. 911 T_rec: 2.43 T_kld: 0.00 V_rec: 2.83 V_kld: 0.00\n",
      "No. 912 T_rec: 2.40 T_kld: 0.00 V_rec: 2.83 V_kld: 0.00\n",
      "No. 913 T_rec: 2.41 T_kld: 0.00 V_rec: 2.82 V_kld: 0.00\n",
      "No. 914 T_rec: 2.41 T_kld: 0.00 V_rec: 2.82 V_kld: 0.00\n",
      "No. 915 T_rec: 2.40 T_kld: 0.00 V_rec: 2.82 V_kld: 0.00\n",
      "No. 916 T_rec: 2.40 T_kld: 0.00 V_rec: 2.82 V_kld: 0.00\n",
      "No. 917 T_rec: 2.40 T_kld: 0.00 V_rec: 2.82 V_kld: 0.00\n",
      "No. 918 T_rec: 2.41 T_kld: 0.00 V_rec: 2.82 V_kld: 0.00\n",
      "No. 919 T_rec: 2.38 T_kld: 0.00 V_rec: 2.81 V_kld: 0.00\n",
      "No. 920 T_rec: 2.39 T_kld: 0.00 V_rec: 2.81 V_kld: 0.00\n",
      "save model 920...\n"
     ]
    },
    {
     "name": "stderr",
     "output_type": "stream",
     "text": [
      "100%|██████████| 5/5 [00:00<00:00, 65.60it/s]\n"
     ]
    },
    {
     "name": "stdout",
     "output_type": "stream",
     "text": [
      "No. 921 T_rec: 2.40 T_kld: 0.00 V_rec: 2.81 V_kld: 0.00\n",
      "No. 922 T_rec: 2.40 T_kld: 0.00 V_rec: 2.81 V_kld: 0.00\n",
      "No. 923 T_rec: 2.42 T_kld: 0.00 V_rec: 2.81 V_kld: 0.00\n",
      "No. 924 T_rec: 2.40 T_kld: 0.00 V_rec: 2.81 V_kld: 0.00\n",
      "No. 925 T_rec: 2.40 T_kld: 0.00 V_rec: 2.80 V_kld: 0.00\n",
      "No. 926 T_rec: 2.41 T_kld: 0.00 V_rec: 2.80 V_kld: 0.00\n",
      "No. 927 T_rec: 2.39 T_kld: 0.00 V_rec: 2.80 V_kld: 0.00\n",
      "No. 928 T_rec: 2.41 T_kld: 0.00 V_rec: 2.80 V_kld: 0.00\n",
      "No. 929 T_rec: 2.41 T_kld: 0.00 V_rec: 2.80 V_kld: 0.00\n",
      "No. 930 T_rec: 2.40 T_kld: 0.00 V_rec: 2.80 V_kld: 0.00\n",
      "save model 930...\n"
     ]
    },
    {
     "name": "stderr",
     "output_type": "stream",
     "text": [
      "100%|██████████| 5/5 [00:00<00:00, 41.74it/s]\n"
     ]
    },
    {
     "name": "stdout",
     "output_type": "stream",
     "text": [
      "No. 931 T_rec: 2.39 T_kld: 0.00 V_rec: 2.80 V_kld: 0.00\n",
      "No. 932 T_rec: 2.43 T_kld: 0.00 V_rec: 2.79 V_kld: 0.00\n",
      "No. 933 T_rec: 2.40 T_kld: 0.00 V_rec: 2.79 V_kld: 0.00\n",
      "No. 934 T_rec: 2.37 T_kld: 0.00 V_rec: 2.79 V_kld: 0.00\n",
      "No. 935 T_rec: 2.39 T_kld: 0.00 V_rec: 2.79 V_kld: 0.00\n",
      "No. 936 T_rec: 2.38 T_kld: 0.00 V_rec: 2.79 V_kld: 0.00\n",
      "No. 937 T_rec: 2.41 T_kld: 0.00 V_rec: 2.78 V_kld: 0.00\n",
      "No. 938 T_rec: 2.39 T_kld: 0.00 V_rec: 2.78 V_kld: 0.00\n",
      "No. 939 T_rec: 2.38 T_kld: 0.00 V_rec: 2.78 V_kld: 0.00\n",
      "No. 940 T_rec: 2.40 T_kld: 0.00 V_rec: 2.78 V_kld: 0.00\n",
      "save model 940...\n"
     ]
    },
    {
     "name": "stderr",
     "output_type": "stream",
     "text": [
      "100%|██████████| 5/5 [00:00<00:00, 65.56it/s]\n"
     ]
    },
    {
     "name": "stdout",
     "output_type": "stream",
     "text": [
      "No. 941 T_rec: 2.40 T_kld: 0.00 V_rec: 2.78 V_kld: 0.00\n",
      "No. 942 T_rec: 2.39 T_kld: 0.00 V_rec: 2.78 V_kld: 0.00\n",
      "No. 943 T_rec: 2.37 T_kld: 0.00 V_rec: 2.77 V_kld: 0.00\n",
      "No. 944 T_rec: 2.37 T_kld: 0.00 V_rec: 2.77 V_kld: 0.00\n",
      "No. 945 T_rec: 2.38 T_kld: 0.00 V_rec: 2.77 V_kld: 0.00\n",
      "No. 946 T_rec: 2.38 T_kld: 0.00 V_rec: 2.77 V_kld: 0.00\n",
      "No. 947 T_rec: 2.40 T_kld: 0.00 V_rec: 2.77 V_kld: 0.00\n",
      "No. 948 T_rec: 2.38 T_kld: 0.00 V_rec: 2.77 V_kld: 0.00\n",
      "No. 949 T_rec: 2.39 T_kld: 0.00 V_rec: 2.76 V_kld: 0.00\n",
      "No. 950 T_rec: 2.39 T_kld: 0.00 V_rec: 2.76 V_kld: 0.00\n",
      "save model 950...\n"
     ]
    },
    {
     "name": "stderr",
     "output_type": "stream",
     "text": [
      "100%|██████████| 5/5 [00:00<00:00, 41.51it/s]\n"
     ]
    },
    {
     "name": "stdout",
     "output_type": "stream",
     "text": [
      "No. 951 T_rec: 2.37 T_kld: 0.00 V_rec: 2.76 V_kld: 0.00\n",
      "No. 952 T_rec: 2.36 T_kld: 0.00 V_rec: 2.76 V_kld: 0.00\n",
      "No. 953 T_rec: 2.40 T_kld: 0.00 V_rec: 2.76 V_kld: 0.00\n",
      "No. 954 T_rec: 2.39 T_kld: 0.00 V_rec: 2.76 V_kld: 0.00\n",
      "No. 955 T_rec: 2.37 T_kld: 0.00 V_rec: 2.75 V_kld: 0.00\n",
      "No. 956 T_rec: 2.38 T_kld: 0.00 V_rec: 2.75 V_kld: 0.00\n",
      "No. 957 T_rec: 2.35 T_kld: 0.00 V_rec: 2.75 V_kld: 0.00\n",
      "No. 958 T_rec: 2.37 T_kld: 0.00 V_rec: 2.75 V_kld: 0.00\n",
      "No. 959 T_rec: 2.37 T_kld: 0.00 V_rec: 2.75 V_kld: 0.00\n",
      "No. 960 T_rec: 2.36 T_kld: 0.00 V_rec: 2.75 V_kld: 0.00\n",
      "save model 960...\n"
     ]
    },
    {
     "name": "stderr",
     "output_type": "stream",
     "text": [
      "100%|██████████| 5/5 [00:00<00:00, 32.39it/s]\n"
     ]
    },
    {
     "name": "stdout",
     "output_type": "stream",
     "text": [
      "No. 961 T_rec: 2.39 T_kld: 0.00 V_rec: 2.74 V_kld: 0.00\n",
      "No. 962 T_rec: 2.39 T_kld: 0.00 V_rec: 2.74 V_kld: 0.00\n",
      "No. 963 T_rec: 2.36 T_kld: 0.00 V_rec: 2.74 V_kld: 0.00\n",
      "No. 964 T_rec: 2.37 T_kld: 0.00 V_rec: 2.74 V_kld: 0.00\n",
      "No. 965 T_rec: 2.36 T_kld: 0.00 V_rec: 2.74 V_kld: 0.00\n",
      "No. 966 T_rec: 2.35 T_kld: 0.00 V_rec: 2.74 V_kld: 0.00\n",
      "No. 967 T_rec: 2.36 T_kld: 0.00 V_rec: 2.74 V_kld: 0.00\n",
      "No. 968 T_rec: 2.38 T_kld: 0.00 V_rec: 2.73 V_kld: 0.00\n",
      "No. 969 T_rec: 2.38 T_kld: 0.00 V_rec: 2.73 V_kld: 0.00\n",
      "No. 970 T_rec: 2.37 T_kld: 0.00 V_rec: 2.73 V_kld: 0.00\n",
      "save model 970...\n"
     ]
    },
    {
     "name": "stderr",
     "output_type": "stream",
     "text": [
      "100%|██████████| 5/5 [00:00<00:00, 53.73it/s]\n"
     ]
    },
    {
     "name": "stdout",
     "output_type": "stream",
     "text": [
      "No. 971 T_rec: 2.36 T_kld: 0.00 V_rec: 2.73 V_kld: 0.00\n",
      "No. 972 T_rec: 2.37 T_kld: 0.00 V_rec: 2.73 V_kld: 0.00\n",
      "No. 973 T_rec: 2.36 T_kld: 0.00 V_rec: 2.73 V_kld: 0.00\n",
      "No. 974 T_rec: 2.37 T_kld: 0.00 V_rec: 2.72 V_kld: 0.00\n",
      "No. 975 T_rec: 2.35 T_kld: 0.00 V_rec: 2.72 V_kld: 0.00\n",
      "No. 976 T_rec: 2.38 T_kld: 0.00 V_rec: 2.72 V_kld: 0.00\n",
      "No. 977 T_rec: 2.35 T_kld: 0.00 V_rec: 2.72 V_kld: 0.00\n",
      "No. 978 T_rec: 2.35 T_kld: 0.00 V_rec: 2.72 V_kld: 0.00\n",
      "No. 979 T_rec: 2.36 T_kld: 0.00 V_rec: 2.72 V_kld: 0.00\n",
      "No. 980 T_rec: 2.34 T_kld: 0.00 V_rec: 2.72 V_kld: 0.00\n",
      "save model 980...\n"
     ]
    },
    {
     "name": "stderr",
     "output_type": "stream",
     "text": [
      "100%|██████████| 5/5 [00:00<00:00, 61.93it/s]\n"
     ]
    },
    {
     "name": "stdout",
     "output_type": "stream",
     "text": [
      "No. 981 T_rec: 2.37 T_kld: 0.00 V_rec: 2.71 V_kld: 0.00\n",
      "No. 982 T_rec: 2.38 T_kld: 0.00 V_rec: 2.71 V_kld: 0.00\n",
      "No. 983 T_rec: 2.35 T_kld: 0.00 V_rec: 2.71 V_kld: 0.00\n",
      "No. 984 T_rec: 2.34 T_kld: 0.00 V_rec: 2.71 V_kld: 0.00\n",
      "No. 985 T_rec: 2.35 T_kld: 0.00 V_rec: 2.71 V_kld: 0.00\n",
      "No. 986 T_rec: 2.36 T_kld: 0.00 V_rec: 2.71 V_kld: 0.00\n",
      "No. 987 T_rec: 2.35 T_kld: 0.00 V_rec: 2.71 V_kld: 0.00\n",
      "No. 988 T_rec: 2.38 T_kld: 0.00 V_rec: 2.70 V_kld: 0.00\n",
      "No. 989 T_rec: 2.34 T_kld: 0.00 V_rec: 2.70 V_kld: 0.00\n",
      "No. 990 T_rec: 2.34 T_kld: 0.00 V_rec: 2.70 V_kld: 0.00\n",
      "save model 990...\n"
     ]
    },
    {
     "name": "stderr",
     "output_type": "stream",
     "text": [
      "100%|██████████| 5/5 [00:00<00:00, 39.10it/s]\n"
     ]
    },
    {
     "name": "stdout",
     "output_type": "stream",
     "text": [
      "No. 991 T_rec: 2.34 T_kld: 0.00 V_rec: 2.70 V_kld: 0.00\n",
      "No. 992 T_rec: 2.35 T_kld: 0.00 V_rec: 2.70 V_kld: 0.00\n",
      "No. 993 T_rec: 2.36 T_kld: 0.00 V_rec: 2.69 V_kld: 0.00\n",
      "No. 994 T_rec: 2.34 T_kld: 0.00 V_rec: 2.69 V_kld: 0.00\n",
      "No. 995 T_rec: 2.36 T_kld: 0.00 V_rec: 2.69 V_kld: 0.00\n",
      "No. 996 T_rec: 2.34 T_kld: 0.00 V_rec: 2.69 V_kld: 0.00\n",
      "No. 997 T_rec: 2.34 T_kld: 0.00 V_rec: 2.69 V_kld: 0.00\n",
      "No. 998 T_rec: 2.32 T_kld: 0.00 V_rec: 2.69 V_kld: 0.00\n",
      "No. 999 T_rec: 2.35 T_kld: 0.00 V_rec: 2.68 V_kld: 0.00\n"
     ]
    },
    {
     "name": "stderr",
     "output_type": "stream",
     "text": [
      "100%|██████████| 30000/30000 [09:12<00:00, 54.26it/s] \n"
     ]
    },
    {
     "ename": "",
     "evalue": "",
     "output_type": "error",
     "traceback": [
      "\u001b[1;31mThe Kernel crashed while executing code in the current cell or a previous cell. \n",
      "\u001b[1;31mPlease review the code in the cell(s) to identify a possible cause of the failure. \n",
      "\u001b[1;31mClick <a href='https://aka.ms/vscodeJupyterKernelCrash'>here</a> for more info. \n",
      "\u001b[1;31mView Jupyter <a href='command:jupyter.viewOutput'>log</a> for further details."
     ]
    }
   ],
   "source": [
    "if opt.training or opt.resume_training:\n",
    "    training()\n",
    "    generate_sentences(opt.out_num, save=1)\n",
    "else:\n",
    "    generate_sentences(opt.out_num, save=1)"
   ]
  }
 ],
 "metadata": {
  "kernelspec": {
   "display_name": "gps",
   "language": "python",
   "name": "python3"
  },
  "language_info": {
   "codemirror_mode": {
    "name": "ipython",
    "version": 3
   },
   "file_extension": ".py",
   "mimetype": "text/x-python",
   "name": "python",
   "nbconvert_exporter": "python",
   "pygments_lexer": "ipython3",
   "version": "3.9.15"
  }
 },
 "nbformat": 4,
 "nbformat_minor": 2
}
