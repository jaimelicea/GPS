{
 "cells": [
  {
   "cell_type": "code",
   "execution_count": 1,
   "metadata": {},
   "outputs": [],
   "source": [
    "import pandas as pd\n",
    "from tqdm import tqdm\n",
    "import ast\n",
    "import os\n",
    "import csv"
   ]
  },
  {
   "cell_type": "code",
   "execution_count": 2,
   "metadata": {},
   "outputs": [
    {
     "name": "stdout",
     "output_type": "stream",
     "text": [
      "/home/jaimelicea/Documentos/Git_Projects/GPS\n"
     ]
    }
   ],
   "source": [
    "dir_path = os.getcwd()\n",
    "print(dir_path)"
   ]
  },
  {
   "cell_type": "code",
   "execution_count": 3,
   "metadata": {},
   "outputs": [
    {
     "name": "stderr",
     "output_type": "stream",
     "text": [
      "2024-12-01 03:40:58.387666: I tensorflow/core/platform/cpu_feature_guard.cc:182] This TensorFlow binary is optimized to use available CPU instructions in performance-critical operations.\n",
      "To enable the following instructions: SSE4.1 SSE4.2 AVX AVX2 AVX_VNNI FMA, in other operations, rebuild TensorFlow with the appropriate compiler flags.\n",
      "W1201 03:41:02.081659 777193 warnings.py:109] /tmp/ipykernel_777193/698925247.py:10: SettingWithCopyWarning: \n",
      "A value is trying to be set on a copy of a slice from a DataFrame.\n",
      "Try using .loc[row_indexer,col_indexer] = value instead\n",
      "\n",
      "See the caveats in the documentation: https://pandas.pydata.org/pandas-docs/stable/user_guide/indexing.html#returning-a-view-versus-a-copy\n",
      "  df_nodup['response'] = df_nodup['response'].str.replace(r'\\\\', '', regex=True)\n",
      "\n"
     ]
    }
   ],
   "source": [
    "args_dataset=\"conan\"\n",
    "\n",
    "from utils_JL import initialize_train_test_dataset\n",
    "train_x_text, train_y_text, test_x_text, test_y_text = initialize_train_test_dataset(args_dataset)\n",
    "df = pd.DataFrame({'context': train_x_text, 'response': train_y_text})\n",
    "\n",
    "df['response']=[row[0] for row in train_y_text]\n",
    "\n",
    "df_nodup = df.drop_duplicates(subset=['response'])\n",
    "df_nodup['response'] = df_nodup['response'].str.replace(r'\\\\', '', regex=True)\n",
    "\n",
    "df_nodup['response'].to_csv('./data/conan_responses.txt', index=False, header=False, quoting=csv.QUOTE_NONE, escapechar='\\\\')\n"
   ]
  },
  {
   "cell_type": "code",
   "execution_count": 4,
   "metadata": {},
   "outputs": [
    {
     "data": {
      "text/plain": [
       "0       To be fair, the OFSTED report is more concerne...\n",
       "2       While this story is presented as an 'Islamic i...\n",
       "4       The quoted report refers to 'countless faith s...\n",
       "5       Gender segregation in faith schools is clearly...\n",
       "8       We need to work together to eradicate CSE once...\n",
       "                              ...                        \n",
       "3080    Islam is that same sisterhood of tolerance and...\n",
       "3083    Muslim women face discrimination and prejudice...\n",
       "3084    Maybe that 'sisterhood of tolerance and unders...\n",
       "3086    So you are suggesting Pakistan, Saudi Arabia, ...\n",
       "3089    Surely tolerance and understanding should exis...\n",
       "Name: response, Length: 1260, dtype: object"
      ]
     },
     "execution_count": 4,
     "metadata": {},
     "output_type": "execute_result"
    }
   ],
   "source": [
    "df_nodup['response']"
   ]
  },
  {
   "cell_type": "code",
   "execution_count": 5,
   "metadata": {},
   "outputs": [
    {
     "name": "stdout",
     "output_type": "stream",
     "text": [
      "Backslashes have been removed and the cleaned content is saved to ./data/conan_for_VAE.txt\n"
     ]
    }
   ],
   "source": [
    "\n",
    "def remove_backslashes(input_file, output_file):\n",
    "    try:\n",
    "        with open(input_file, 'r') as file:\n",
    "            content = file.read()\n",
    "        \n",
    "        # Remove backslashes\n",
    "        cleaned_content = content.replace('\\\\', '')\n",
    "        \n",
    "        with open(output_file, 'w') as file:\n",
    "            file.write(cleaned_content)\n",
    "        \n",
    "        print(f\"Backslashes have been removed and the cleaned content is saved to {output_file}\")\n",
    "    \n",
    "    except Exception as e:\n",
    "        print(f\"An error occurred: {e}\")\n",
    "\n",
    "# Example usage\n",
    "input_file = './data/conan_responses.txt'\n",
    "output_file = './data/conan_for_VAE.txt'\n",
    "remove_backslashes(input_file, output_file)\n"
   ]
  }
 ],
 "metadata": {
  "kernelspec": {
   "display_name": "gps",
   "language": "python",
   "name": "python3"
  },
  "language_info": {
   "codemirror_mode": {
    "name": "ipython",
    "version": 3
   },
   "file_extension": ".py",
   "mimetype": "text/x-python",
   "name": "python",
   "nbconvert_exporter": "python",
   "pygments_lexer": "ipython3",
   "version": "3.9.15"
  }
 },
 "nbformat": 4,
 "nbformat_minor": 2
}
